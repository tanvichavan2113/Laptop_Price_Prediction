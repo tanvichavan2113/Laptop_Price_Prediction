{
 "cells": [
  {
   "cell_type": "markdown",
   "metadata": {},
   "source": [
    "# Model Building"
   ]
  },
  {
   "cell_type": "code",
   "execution_count": 1,
   "metadata": {
    "colab": {},
    "colab_type": "code",
    "id": "cKjrvvjSSFvH"
   },
   "outputs": [],
   "source": [
    "import pandas as pd\n",
    "import numpy as np\n",
    "import seaborn as sns"
   ]
  },
  {
   "cell_type": "code",
   "execution_count": 2,
   "metadata": {
    "colab": {},
    "colab_type": "code",
    "id": "wsCOIWn0SL7f"
   },
   "outputs": [],
   "source": [
    "df=pd.read_csv('changed.csv')"
   ]
  },
  {
   "cell_type": "code",
   "execution_count": 3,
   "metadata": {
    "colab": {
     "base_uri": "https://localhost:8080/",
     "height": 34
    },
    "colab_type": "code",
    "id": "2pAJvTKlScIX",
    "outputId": "1dc470ae-3871-4c80-c442-25a17146af24"
   },
   "outputs": [
    {
     "data": {
      "text/plain": [
       "(168, 23)"
      ]
     },
     "execution_count": 3,
     "metadata": {},
     "output_type": "execute_result"
    }
   ],
   "source": [
    "df.shape"
   ]
  },
  {
   "cell_type": "code",
   "execution_count": 4,
   "metadata": {
    "colab": {},
    "colab_type": "code",
    "id": "thuQ6cE2Sc23"
   },
   "outputs": [],
   "source": [
    "df.drop('Unnamed: 0',axis=1,inplace=True)"
   ]
  },
  {
   "cell_type": "code",
   "execution_count": 5,
   "metadata": {
    "colab": {},
    "colab_type": "code",
    "id": "a3JLsbVESg-Y"
   },
   "outputs": [],
   "source": [
    "from sklearn.preprocessing import LabelEncoder\n",
    "def encoding(feature):\n",
    "    df[feature+'_name_encoded'] = LabelEncoder().fit_transform(df[feature])\n",
    "features = ['Processor Name','Processor Type','Operating System Type','Disk Drive','Company','Graphic Card','Touchscreen']"
   ]
  },
  {
   "cell_type": "code",
   "execution_count": 6,
   "metadata": {
    "colab": {},
    "colab_type": "code",
    "id": "2YYcIJuSVQmW"
   },
   "outputs": [],
   "source": [
    "for i in features:\n",
    "    encoding(i)"
   ]
  },
  {
   "cell_type": "code",
   "execution_count": 7,
   "metadata": {
    "colab": {
     "base_uri": "https://localhost:8080/",
     "height": 187
    },
    "colab_type": "code",
    "id": "ch2_EXjHVSZF",
    "outputId": "2653f13d-5366-4343-9bf1-c57d6d097aa9"
   },
   "outputs": [
    {
     "data": {
      "text/plain": [
       "Index(['Description', 'Processor', 'RAM', 'Operating System', 'Storage',\n",
       "       'Display', 'Warranty', 'Price', 'RAM_GB', 'DDR_Version',\n",
       "       'Processor Name', 'Processor Type', 'Generation',\n",
       "       'Operating System Type', 'Storage_GB', 'Disk Drive', 'Size(Inches)',\n",
       "       'Company', 'Graphic Card', 'Touchscreen', 'SSD', 'HDD',\n",
       "       'Processor Name_name_encoded', 'Processor Type_name_encoded',\n",
       "       'Operating System Type_name_encoded', 'Disk Drive_name_encoded',\n",
       "       'Company_name_encoded', 'Graphic Card_name_encoded',\n",
       "       'Touchscreen_name_encoded'],\n",
       "      dtype='object')"
      ]
     },
     "execution_count": 7,
     "metadata": {},
     "output_type": "execute_result"
    }
   ],
   "source": [
    "df.columns"
   ]
  },
  {
   "cell_type": "code",
   "execution_count": 8,
   "metadata": {
    "colab": {},
    "colab_type": "code",
    "id": "cAvNtzKnViy6"
   },
   "outputs": [],
   "source": [
    "df_model = df[['Processor Name_name_encoded',\n",
    "       'Processor Type_name_encoded', 'Operating System Type_name_encoded',\n",
    "       'Disk Drive_name_encoded', 'Company_name_encoded',\n",
    "       'Graphic Card_name_encoded', 'Touchscreen_name_encoded','Generation','RAM_GB','DDR_Version','Price','Size(Inches)']]"
   ]
  },
  {
   "cell_type": "code",
   "execution_count": 9,
   "metadata": {
    "colab": {},
    "colab_type": "code",
    "id": "nCuQrpkZVtAn"
   },
   "outputs": [],
   "source": [
    "X = df_model.drop('Price',axis=1)\n",
    "Y = df_model['Price'].values"
   ]
  },
  {
   "cell_type": "code",
   "execution_count": 10,
   "metadata": {},
   "outputs": [
    {
     "data": {
      "text/plain": [
       "array([2, 0, 1])"
      ]
     },
     "execution_count": 10,
     "metadata": {},
     "output_type": "execute_result"
    }
   ],
   "source": [
    "df['Disk Drive_name_encoded'].unique()"
   ]
  },
  {
   "cell_type": "code",
   "execution_count": 11,
   "metadata": {},
   "outputs": [
    {
     "data": {
      "text/plain": [
       "0      13.3\n",
       "1      14.0\n",
       "2      15.6\n",
       "3      14.0\n",
       "4      14.0\n",
       "       ... \n",
       "163    14.0\n",
       "164    15.6\n",
       "165    13.3\n",
       "166    13.3\n",
       "167    15.4\n",
       "Name: Size(Inches), Length: 168, dtype: float64"
      ]
     },
     "execution_count": 11,
     "metadata": {},
     "output_type": "execute_result"
    }
   ],
   "source": [
    "df['Size(Inches)']"
   ]
  },
  {
   "cell_type": "code",
   "execution_count": 12,
   "metadata": {},
   "outputs": [
    {
     "data": {
      "text/html": [
       "<div>\n",
       "<style scoped>\n",
       "    .dataframe tbody tr th:only-of-type {\n",
       "        vertical-align: middle;\n",
       "    }\n",
       "\n",
       "    .dataframe tbody tr th {\n",
       "        vertical-align: top;\n",
       "    }\n",
       "\n",
       "    .dataframe thead th {\n",
       "        text-align: right;\n",
       "    }\n",
       "</style>\n",
       "<table border=\"1\" class=\"dataframe\">\n",
       "  <thead>\n",
       "    <tr style=\"text-align: right;\">\n",
       "      <th></th>\n",
       "      <th>Description</th>\n",
       "      <th>Processor</th>\n",
       "      <th>RAM</th>\n",
       "      <th>Operating System</th>\n",
       "      <th>Storage</th>\n",
       "      <th>Display</th>\n",
       "      <th>Warranty</th>\n",
       "      <th>Price</th>\n",
       "      <th>RAM_GB</th>\n",
       "      <th>DDR_Version</th>\n",
       "      <th>...</th>\n",
       "      <th>Operating System Type</th>\n",
       "      <th>Storage_GB</th>\n",
       "      <th>Disk Drive</th>\n",
       "      <th>Size(Inches)</th>\n",
       "      <th>Company</th>\n",
       "      <th>Graphic Card</th>\n",
       "      <th>Touchscreen</th>\n",
       "      <th>SSD</th>\n",
       "      <th>HDD</th>\n",
       "      <th>Processor Name_name_encoded</th>\n",
       "    </tr>\n",
       "  </thead>\n",
       "  <tbody>\n",
       "    <tr>\n",
       "      <th>0</th>\n",
       "      <td>HP Spectre x360 Core i5 10th Gen - (8 GB/512 G...</td>\n",
       "      <td>Intel Core i5 Processor (10th Gen)</td>\n",
       "      <td>8 GB DDR4 RAM</td>\n",
       "      <td>64 bit Windows 10 Operating System</td>\n",
       "      <td>512 GB SSD</td>\n",
       "      <td>33.78 cm (13.3 inch) Touchscreen Display</td>\n",
       "      <td>1 Year Onsite Warranty</td>\n",
       "      <td>102990.0</td>\n",
       "      <td>8</td>\n",
       "      <td>4</td>\n",
       "      <td>...</td>\n",
       "      <td>Windows</td>\n",
       "      <td>512</td>\n",
       "      <td>SSD</td>\n",
       "      <td>13.3</td>\n",
       "      <td>HP</td>\n",
       "      <td>No</td>\n",
       "      <td>Yes</td>\n",
       "      <td>512</td>\n",
       "      <td>0</td>\n",
       "      <td>1</td>\n",
       "    </tr>\n",
       "    <tr>\n",
       "      <th>1</th>\n",
       "      <td>Asus VivoBook 14 Core i5 8th Gen - (8 GB/512 G...</td>\n",
       "      <td>Intel Core i5 Processor (8th Gen)</td>\n",
       "      <td>8 GB DDR4 RAM</td>\n",
       "      <td>64 bit Windows 10 Operating System</td>\n",
       "      <td>512 GB SSD</td>\n",
       "      <td>35.56 cm (14 inch) Display</td>\n",
       "      <td>1 Year Limited International Hardware Warranty</td>\n",
       "      <td>55990.0</td>\n",
       "      <td>8</td>\n",
       "      <td>4</td>\n",
       "      <td>...</td>\n",
       "      <td>Windows</td>\n",
       "      <td>512</td>\n",
       "      <td>SSD</td>\n",
       "      <td>14.0</td>\n",
       "      <td>Asus</td>\n",
       "      <td>Yes</td>\n",
       "      <td>No</td>\n",
       "      <td>512</td>\n",
       "      <td>0</td>\n",
       "      <td>1</td>\n",
       "    </tr>\n",
       "    <tr>\n",
       "      <th>2</th>\n",
       "      <td>Acer Aspire 7 Core i5 9th Gen - (8 GB/512 GB S...</td>\n",
       "      <td>Intel Core i5 Processor (9th Gen)</td>\n",
       "      <td>8 GB DDR4 RAM</td>\n",
       "      <td>64 bit Windows 10 Operating System</td>\n",
       "      <td>512 GB SSD</td>\n",
       "      <td>39.62 cm (15.6 inch) Display</td>\n",
       "      <td>1 Year International Travelers Warranty (ITW)</td>\n",
       "      <td>56990.0</td>\n",
       "      <td>8</td>\n",
       "      <td>4</td>\n",
       "      <td>...</td>\n",
       "      <td>Windows</td>\n",
       "      <td>512</td>\n",
       "      <td>SSD</td>\n",
       "      <td>15.6</td>\n",
       "      <td>Acer</td>\n",
       "      <td>Yes</td>\n",
       "      <td>No</td>\n",
       "      <td>512</td>\n",
       "      <td>0</td>\n",
       "      <td>1</td>\n",
       "    </tr>\n",
       "    <tr>\n",
       "      <th>3</th>\n",
       "      <td>Asus VivoBook 14 Ryzen 5 Quad Core 2nd Gen - (...</td>\n",
       "      <td>AMD Ryzen 5 Quad Core Processor (2nd Gen)</td>\n",
       "      <td>8 GB DDR4 RAM</td>\n",
       "      <td>64 bit Windows 10 Operating System</td>\n",
       "      <td>512 GB SSD</td>\n",
       "      <td>35.56 cm (14 inch) Display</td>\n",
       "      <td>1 Year Limited International Hardware Warranty</td>\n",
       "      <td>42990.0</td>\n",
       "      <td>8</td>\n",
       "      <td>4</td>\n",
       "      <td>...</td>\n",
       "      <td>Windows</td>\n",
       "      <td>512</td>\n",
       "      <td>SSD</td>\n",
       "      <td>14.0</td>\n",
       "      <td>Asus</td>\n",
       "      <td>No</td>\n",
       "      <td>No</td>\n",
       "      <td>512</td>\n",
       "      <td>0</td>\n",
       "      <td>0</td>\n",
       "    </tr>\n",
       "    <tr>\n",
       "      <th>4</th>\n",
       "      <td>HP 14s Core i5 10th Gen - (8 GB/512 GB SSD/Win...</td>\n",
       "      <td>Intel Core i5 Processor (10th Gen)</td>\n",
       "      <td>8 GB DDR4 RAM</td>\n",
       "      <td>64 bit Windows 10 Operating System</td>\n",
       "      <td>512 GB SSD</td>\n",
       "      <td>35.56 cm (14 inch) Display</td>\n",
       "      <td>1 Year Onsite Warranty</td>\n",
       "      <td>52990.0</td>\n",
       "      <td>8</td>\n",
       "      <td>4</td>\n",
       "      <td>...</td>\n",
       "      <td>Windows</td>\n",
       "      <td>512</td>\n",
       "      <td>SSD</td>\n",
       "      <td>14.0</td>\n",
       "      <td>HP</td>\n",
       "      <td>No</td>\n",
       "      <td>No</td>\n",
       "      <td>512</td>\n",
       "      <td>0</td>\n",
       "      <td>1</td>\n",
       "    </tr>\n",
       "    <tr>\n",
       "      <th>...</th>\n",
       "      <td>...</td>\n",
       "      <td>...</td>\n",
       "      <td>...</td>\n",
       "      <td>...</td>\n",
       "      <td>...</td>\n",
       "      <td>...</td>\n",
       "      <td>...</td>\n",
       "      <td>...</td>\n",
       "      <td>...</td>\n",
       "      <td>...</td>\n",
       "      <td>...</td>\n",
       "      <td>...</td>\n",
       "      <td>...</td>\n",
       "      <td>...</td>\n",
       "      <td>...</td>\n",
       "      <td>...</td>\n",
       "      <td>...</td>\n",
       "      <td>...</td>\n",
       "      <td>...</td>\n",
       "      <td>...</td>\n",
       "      <td>...</td>\n",
       "    </tr>\n",
       "    <tr>\n",
       "      <th>163</th>\n",
       "      <td>Lenovo Ideapad Slim APU Dual Core A4 - (4 GB/6...</td>\n",
       "      <td>AMD APU Dual Core A4 Processor</td>\n",
       "      <td>4 GB DDR4 RAM</td>\n",
       "      <td>64 bit Windows 10 Operating System</td>\n",
       "      <td>128 GB SSD</td>\n",
       "      <td>35.56 cm (14 inch) Display</td>\n",
       "      <td>1 Year Onsite Warranty</td>\n",
       "      <td>20990.0</td>\n",
       "      <td>4</td>\n",
       "      <td>4</td>\n",
       "      <td>...</td>\n",
       "      <td>Windows</td>\n",
       "      <td>128</td>\n",
       "      <td>SSD</td>\n",
       "      <td>14.0</td>\n",
       "      <td>Lenovo</td>\n",
       "      <td>No</td>\n",
       "      <td>No</td>\n",
       "      <td>128</td>\n",
       "      <td>0</td>\n",
       "      <td>0</td>\n",
       "    </tr>\n",
       "    <tr>\n",
       "      <th>164</th>\n",
       "      <td>Acer Predator Triton 300 Core i7 9th Gen - (8 ...</td>\n",
       "      <td>Intel Core i7 Processor (9th Gen)</td>\n",
       "      <td>8 GB DDR4 RAM</td>\n",
       "      <td>64 bit Windows 10 Operating System</td>\n",
       "      <td>2 TB HDD|256 GB SSD</td>\n",
       "      <td>39.62 cm (15.6 inch) Display</td>\n",
       "      <td>1 Year International Travelers Warranty (ITW)</td>\n",
       "      <td>97990.0</td>\n",
       "      <td>8</td>\n",
       "      <td>4</td>\n",
       "      <td>...</td>\n",
       "      <td>Windows</td>\n",
       "      <td>2000+256</td>\n",
       "      <td>Both</td>\n",
       "      <td>15.6</td>\n",
       "      <td>Acer</td>\n",
       "      <td>Yes</td>\n",
       "      <td>No</td>\n",
       "      <td>256</td>\n",
       "      <td>2000</td>\n",
       "      <td>1</td>\n",
       "    </tr>\n",
       "    <tr>\n",
       "      <th>165</th>\n",
       "      <td>Lenovo Yoga 730 Core i5 8th Gen - (8 GB/512 GB...</td>\n",
       "      <td>Intel Core i5 Processor (8th Gen)</td>\n",
       "      <td>8 GB DDR4 RAM</td>\n",
       "      <td>64 bit Windows 10 Operating System</td>\n",
       "      <td>512 GB SSD</td>\n",
       "      <td>33.78 cm (13.3 inch) Touchscreen Display</td>\n",
       "      <td>1 Year Onsite Warranty</td>\n",
       "      <td>94990.0</td>\n",
       "      <td>8</td>\n",
       "      <td>4</td>\n",
       "      <td>...</td>\n",
       "      <td>Windows</td>\n",
       "      <td>512</td>\n",
       "      <td>SSD</td>\n",
       "      <td>13.3</td>\n",
       "      <td>Lenovo</td>\n",
       "      <td>No</td>\n",
       "      <td>Yes</td>\n",
       "      <td>512</td>\n",
       "      <td>0</td>\n",
       "      <td>1</td>\n",
       "    </tr>\n",
       "    <tr>\n",
       "      <th>166</th>\n",
       "      <td>Asus ZenBook Core i7 10th Gen - (16 GB/1 TB SS...</td>\n",
       "      <td>Intel Core i7 Processor (10th Gen)</td>\n",
       "      <td>16 GB DDR4 RAM</td>\n",
       "      <td>64 bit Windows 10 Operating System</td>\n",
       "      <td>1 TB SSD</td>\n",
       "      <td>33.78 cm (13.3 inch) Display</td>\n",
       "      <td>1 Year Onsite Warranty</td>\n",
       "      <td>99990.0</td>\n",
       "      <td>16</td>\n",
       "      <td>4</td>\n",
       "      <td>...</td>\n",
       "      <td>Windows</td>\n",
       "      <td>1000</td>\n",
       "      <td>SSD</td>\n",
       "      <td>13.3</td>\n",
       "      <td>Asus</td>\n",
       "      <td>No</td>\n",
       "      <td>No</td>\n",
       "      <td>1</td>\n",
       "      <td>0</td>\n",
       "      <td>1</td>\n",
       "    </tr>\n",
       "    <tr>\n",
       "      <th>167</th>\n",
       "      <td>Apple MacBook Pro Core i7 7th Gen - (16 GB/512...</td>\n",
       "      <td>Intel Core i7 Processor (7th Gen)</td>\n",
       "      <td>16 GB DDR3 RAM</td>\n",
       "      <td>64 bit Mac OS Operating System</td>\n",
       "      <td>512 GB SSD</td>\n",
       "      <td>39.12 cm (15.4 inch) Display</td>\n",
       "      <td>1 Year Warranty</td>\n",
       "      <td>229990.0</td>\n",
       "      <td>16</td>\n",
       "      <td>3</td>\n",
       "      <td>...</td>\n",
       "      <td>Mac</td>\n",
       "      <td>512</td>\n",
       "      <td>SSD</td>\n",
       "      <td>15.4</td>\n",
       "      <td>Apple</td>\n",
       "      <td>Yes</td>\n",
       "      <td>No</td>\n",
       "      <td>512</td>\n",
       "      <td>0</td>\n",
       "      <td>1</td>\n",
       "    </tr>\n",
       "  </tbody>\n",
       "</table>\n",
       "<p>168 rows × 23 columns</p>\n",
       "</div>"
      ],
      "text/plain": [
       "                                           Description  \\\n",
       "0    HP Spectre x360 Core i5 10th Gen - (8 GB/512 G...   \n",
       "1    Asus VivoBook 14 Core i5 8th Gen - (8 GB/512 G...   \n",
       "2    Acer Aspire 7 Core i5 9th Gen - (8 GB/512 GB S...   \n",
       "3    Asus VivoBook 14 Ryzen 5 Quad Core 2nd Gen - (...   \n",
       "4    HP 14s Core i5 10th Gen - (8 GB/512 GB SSD/Win...   \n",
       "..                                                 ...   \n",
       "163  Lenovo Ideapad Slim APU Dual Core A4 - (4 GB/6...   \n",
       "164  Acer Predator Triton 300 Core i7 9th Gen - (8 ...   \n",
       "165  Lenovo Yoga 730 Core i5 8th Gen - (8 GB/512 GB...   \n",
       "166  Asus ZenBook Core i7 10th Gen - (16 GB/1 TB SS...   \n",
       "167  Apple MacBook Pro Core i7 7th Gen - (16 GB/512...   \n",
       "\n",
       "                                     Processor             RAM  \\\n",
       "0           Intel Core i5 Processor (10th Gen)   8 GB DDR4 RAM   \n",
       "1            Intel Core i5 Processor (8th Gen)   8 GB DDR4 RAM   \n",
       "2            Intel Core i5 Processor (9th Gen)   8 GB DDR4 RAM   \n",
       "3    AMD Ryzen 5 Quad Core Processor (2nd Gen)   8 GB DDR4 RAM   \n",
       "4           Intel Core i5 Processor (10th Gen)   8 GB DDR4 RAM   \n",
       "..                                         ...             ...   \n",
       "163             AMD APU Dual Core A4 Processor   4 GB DDR4 RAM   \n",
       "164          Intel Core i7 Processor (9th Gen)   8 GB DDR4 RAM   \n",
       "165          Intel Core i5 Processor (8th Gen)   8 GB DDR4 RAM   \n",
       "166         Intel Core i7 Processor (10th Gen)  16 GB DDR4 RAM   \n",
       "167          Intel Core i7 Processor (7th Gen)  16 GB DDR3 RAM   \n",
       "\n",
       "                       Operating System              Storage  \\\n",
       "0    64 bit Windows 10 Operating System           512 GB SSD   \n",
       "1    64 bit Windows 10 Operating System           512 GB SSD   \n",
       "2    64 bit Windows 10 Operating System           512 GB SSD   \n",
       "3    64 bit Windows 10 Operating System           512 GB SSD   \n",
       "4    64 bit Windows 10 Operating System           512 GB SSD   \n",
       "..                                  ...                  ...   \n",
       "163  64 bit Windows 10 Operating System           128 GB SSD   \n",
       "164  64 bit Windows 10 Operating System  2 TB HDD|256 GB SSD   \n",
       "165  64 bit Windows 10 Operating System           512 GB SSD   \n",
       "166  64 bit Windows 10 Operating System             1 TB SSD   \n",
       "167      64 bit Mac OS Operating System           512 GB SSD   \n",
       "\n",
       "                                      Display  \\\n",
       "0    33.78 cm (13.3 inch) Touchscreen Display   \n",
       "1                  35.56 cm (14 inch) Display   \n",
       "2                39.62 cm (15.6 inch) Display   \n",
       "3                  35.56 cm (14 inch) Display   \n",
       "4                  35.56 cm (14 inch) Display   \n",
       "..                                        ...   \n",
       "163                35.56 cm (14 inch) Display   \n",
       "164              39.62 cm (15.6 inch) Display   \n",
       "165  33.78 cm (13.3 inch) Touchscreen Display   \n",
       "166              33.78 cm (13.3 inch) Display   \n",
       "167              39.12 cm (15.4 inch) Display   \n",
       "\n",
       "                                           Warranty     Price  RAM_GB  \\\n",
       "0                            1 Year Onsite Warranty  102990.0       8   \n",
       "1    1 Year Limited International Hardware Warranty   55990.0       8   \n",
       "2     1 Year International Travelers Warranty (ITW)   56990.0       8   \n",
       "3    1 Year Limited International Hardware Warranty   42990.0       8   \n",
       "4                            1 Year Onsite Warranty   52990.0       8   \n",
       "..                                              ...       ...     ...   \n",
       "163                          1 Year Onsite Warranty   20990.0       4   \n",
       "164   1 Year International Travelers Warranty (ITW)   97990.0       8   \n",
       "165                          1 Year Onsite Warranty   94990.0       8   \n",
       "166                          1 Year Onsite Warranty   99990.0      16   \n",
       "167                                 1 Year Warranty  229990.0      16   \n",
       "\n",
       "     DDR_Version  ... Operating System Type Storage_GB  Disk Drive  \\\n",
       "0              4  ...               Windows        512         SSD   \n",
       "1              4  ...               Windows        512         SSD   \n",
       "2              4  ...               Windows        512         SSD   \n",
       "3              4  ...               Windows        512         SSD   \n",
       "4              4  ...               Windows        512         SSD   \n",
       "..           ...  ...                   ...        ...         ...   \n",
       "163            4  ...               Windows        128         SSD   \n",
       "164            4  ...               Windows   2000+256        Both   \n",
       "165            4  ...               Windows        512         SSD   \n",
       "166            4  ...               Windows       1000         SSD   \n",
       "167            3  ...                   Mac        512         SSD   \n",
       "\n",
       "    Size(Inches) Company Graphic Card  Touchscreen   SSD   HDD  \\\n",
       "0           13.3      HP           No          Yes  512      0   \n",
       "1           14.0    Asus          Yes           No  512      0   \n",
       "2           15.6    Acer          Yes           No  512      0   \n",
       "3           14.0    Asus           No           No  512      0   \n",
       "4           14.0      HP           No           No  512      0   \n",
       "..           ...     ...          ...          ...   ...   ...   \n",
       "163         14.0  Lenovo           No           No  128      0   \n",
       "164         15.6    Acer          Yes           No  256   2000   \n",
       "165         13.3  Lenovo           No          Yes  512      0   \n",
       "166         13.3    Asus           No           No    1      0   \n",
       "167         15.4   Apple          Yes           No  512      0   \n",
       "\n",
       "    Processor Name_name_encoded  \n",
       "0                             1  \n",
       "1                             1  \n",
       "2                             1  \n",
       "3                             0  \n",
       "4                             1  \n",
       "..                          ...  \n",
       "163                           0  \n",
       "164                           1  \n",
       "165                           1  \n",
       "166                           1  \n",
       "167                           1  \n",
       "\n",
       "[168 rows x 23 columns]"
      ]
     },
     "execution_count": 12,
     "metadata": {},
     "output_type": "execute_result"
    }
   ],
   "source": [
    "df.iloc[:,0:23]"
   ]
  },
  {
   "cell_type": "code",
   "execution_count": 13,
   "metadata": {},
   "outputs": [
    {
     "data": {
      "text/html": [
       "<div>\n",
       "<style scoped>\n",
       "    .dataframe tbody tr th:only-of-type {\n",
       "        vertical-align: middle;\n",
       "    }\n",
       "\n",
       "    .dataframe tbody tr th {\n",
       "        vertical-align: top;\n",
       "    }\n",
       "\n",
       "    .dataframe thead th {\n",
       "        text-align: right;\n",
       "    }\n",
       "</style>\n",
       "<table border=\"1\" class=\"dataframe\">\n",
       "  <thead>\n",
       "    <tr style=\"text-align: right;\">\n",
       "      <th></th>\n",
       "      <th>Processor Name_name_encoded</th>\n",
       "      <th>Processor Type_name_encoded</th>\n",
       "      <th>Operating System Type_name_encoded</th>\n",
       "      <th>Disk Drive_name_encoded</th>\n",
       "      <th>Company_name_encoded</th>\n",
       "      <th>Graphic Card_name_encoded</th>\n",
       "      <th>Touchscreen_name_encoded</th>\n",
       "      <th>Generation</th>\n",
       "      <th>RAM_GB</th>\n",
       "      <th>DDR_Version</th>\n",
       "      <th>Price</th>\n",
       "      <th>Size(Inches)</th>\n",
       "    </tr>\n",
       "  </thead>\n",
       "  <tbody>\n",
       "    <tr>\n",
       "      <th>0</th>\n",
       "      <td>1</td>\n",
       "      <td>8</td>\n",
       "      <td>3</td>\n",
       "      <td>2</td>\n",
       "      <td>6</td>\n",
       "      <td>0</td>\n",
       "      <td>1</td>\n",
       "      <td>10</td>\n",
       "      <td>8</td>\n",
       "      <td>4</td>\n",
       "      <td>102990.0</td>\n",
       "      <td>13.3</td>\n",
       "    </tr>\n",
       "    <tr>\n",
       "      <th>1</th>\n",
       "      <td>1</td>\n",
       "      <td>8</td>\n",
       "      <td>3</td>\n",
       "      <td>2</td>\n",
       "      <td>3</td>\n",
       "      <td>1</td>\n",
       "      <td>0</td>\n",
       "      <td>8</td>\n",
       "      <td>8</td>\n",
       "      <td>4</td>\n",
       "      <td>55990.0</td>\n",
       "      <td>14.0</td>\n",
       "    </tr>\n",
       "    <tr>\n",
       "      <th>2</th>\n",
       "      <td>1</td>\n",
       "      <td>8</td>\n",
       "      <td>3</td>\n",
       "      <td>2</td>\n",
       "      <td>0</td>\n",
       "      <td>1</td>\n",
       "      <td>0</td>\n",
       "      <td>9</td>\n",
       "      <td>8</td>\n",
       "      <td>4</td>\n",
       "      <td>56990.0</td>\n",
       "      <td>15.6</td>\n",
       "    </tr>\n",
       "    <tr>\n",
       "      <th>3</th>\n",
       "      <td>0</td>\n",
       "      <td>4</td>\n",
       "      <td>3</td>\n",
       "      <td>2</td>\n",
       "      <td>3</td>\n",
       "      <td>0</td>\n",
       "      <td>0</td>\n",
       "      <td>2</td>\n",
       "      <td>8</td>\n",
       "      <td>4</td>\n",
       "      <td>42990.0</td>\n",
       "      <td>14.0</td>\n",
       "    </tr>\n",
       "    <tr>\n",
       "      <th>4</th>\n",
       "      <td>1</td>\n",
       "      <td>8</td>\n",
       "      <td>3</td>\n",
       "      <td>2</td>\n",
       "      <td>6</td>\n",
       "      <td>0</td>\n",
       "      <td>0</td>\n",
       "      <td>10</td>\n",
       "      <td>8</td>\n",
       "      <td>4</td>\n",
       "      <td>52990.0</td>\n",
       "      <td>14.0</td>\n",
       "    </tr>\n",
       "    <tr>\n",
       "      <th>...</th>\n",
       "      <td>...</td>\n",
       "      <td>...</td>\n",
       "      <td>...</td>\n",
       "      <td>...</td>\n",
       "      <td>...</td>\n",
       "      <td>...</td>\n",
       "      <td>...</td>\n",
       "      <td>...</td>\n",
       "      <td>...</td>\n",
       "      <td>...</td>\n",
       "      <td>...</td>\n",
       "      <td>...</td>\n",
       "    </tr>\n",
       "    <tr>\n",
       "      <th>163</th>\n",
       "      <td>0</td>\n",
       "      <td>0</td>\n",
       "      <td>3</td>\n",
       "      <td>2</td>\n",
       "      <td>7</td>\n",
       "      <td>0</td>\n",
       "      <td>0</td>\n",
       "      <td>0</td>\n",
       "      <td>4</td>\n",
       "      <td>4</td>\n",
       "      <td>20990.0</td>\n",
       "      <td>14.0</td>\n",
       "    </tr>\n",
       "    <tr>\n",
       "      <th>164</th>\n",
       "      <td>1</td>\n",
       "      <td>9</td>\n",
       "      <td>3</td>\n",
       "      <td>0</td>\n",
       "      <td>0</td>\n",
       "      <td>1</td>\n",
       "      <td>0</td>\n",
       "      <td>9</td>\n",
       "      <td>8</td>\n",
       "      <td>4</td>\n",
       "      <td>97990.0</td>\n",
       "      <td>15.6</td>\n",
       "    </tr>\n",
       "    <tr>\n",
       "      <th>165</th>\n",
       "      <td>1</td>\n",
       "      <td>8</td>\n",
       "      <td>3</td>\n",
       "      <td>2</td>\n",
       "      <td>7</td>\n",
       "      <td>0</td>\n",
       "      <td>1</td>\n",
       "      <td>8</td>\n",
       "      <td>8</td>\n",
       "      <td>4</td>\n",
       "      <td>94990.0</td>\n",
       "      <td>13.3</td>\n",
       "    </tr>\n",
       "    <tr>\n",
       "      <th>166</th>\n",
       "      <td>1</td>\n",
       "      <td>9</td>\n",
       "      <td>3</td>\n",
       "      <td>2</td>\n",
       "      <td>3</td>\n",
       "      <td>0</td>\n",
       "      <td>0</td>\n",
       "      <td>10</td>\n",
       "      <td>16</td>\n",
       "      <td>4</td>\n",
       "      <td>99990.0</td>\n",
       "      <td>13.3</td>\n",
       "    </tr>\n",
       "    <tr>\n",
       "      <th>167</th>\n",
       "      <td>1</td>\n",
       "      <td>9</td>\n",
       "      <td>2</td>\n",
       "      <td>2</td>\n",
       "      <td>2</td>\n",
       "      <td>1</td>\n",
       "      <td>0</td>\n",
       "      <td>7</td>\n",
       "      <td>16</td>\n",
       "      <td>3</td>\n",
       "      <td>229990.0</td>\n",
       "      <td>15.4</td>\n",
       "    </tr>\n",
       "  </tbody>\n",
       "</table>\n",
       "<p>168 rows × 12 columns</p>\n",
       "</div>"
      ],
      "text/plain": [
       "     Processor Name_name_encoded  Processor Type_name_encoded  \\\n",
       "0                              1                            8   \n",
       "1                              1                            8   \n",
       "2                              1                            8   \n",
       "3                              0                            4   \n",
       "4                              1                            8   \n",
       "..                           ...                          ...   \n",
       "163                            0                            0   \n",
       "164                            1                            9   \n",
       "165                            1                            8   \n",
       "166                            1                            9   \n",
       "167                            1                            9   \n",
       "\n",
       "     Operating System Type_name_encoded  Disk Drive_name_encoded  \\\n",
       "0                                     3                        2   \n",
       "1                                     3                        2   \n",
       "2                                     3                        2   \n",
       "3                                     3                        2   \n",
       "4                                     3                        2   \n",
       "..                                  ...                      ...   \n",
       "163                                   3                        2   \n",
       "164                                   3                        0   \n",
       "165                                   3                        2   \n",
       "166                                   3                        2   \n",
       "167                                   2                        2   \n",
       "\n",
       "     Company_name_encoded  Graphic Card_name_encoded  \\\n",
       "0                       6                          0   \n",
       "1                       3                          1   \n",
       "2                       0                          1   \n",
       "3                       3                          0   \n",
       "4                       6                          0   \n",
       "..                    ...                        ...   \n",
       "163                     7                          0   \n",
       "164                     0                          1   \n",
       "165                     7                          0   \n",
       "166                     3                          0   \n",
       "167                     2                          1   \n",
       "\n",
       "     Touchscreen_name_encoded  Generation  RAM_GB  DDR_Version     Price  \\\n",
       "0                           1          10       8            4  102990.0   \n",
       "1                           0           8       8            4   55990.0   \n",
       "2                           0           9       8            4   56990.0   \n",
       "3                           0           2       8            4   42990.0   \n",
       "4                           0          10       8            4   52990.0   \n",
       "..                        ...         ...     ...          ...       ...   \n",
       "163                         0           0       4            4   20990.0   \n",
       "164                         0           9       8            4   97990.0   \n",
       "165                         1           8       8            4   94990.0   \n",
       "166                         0          10      16            4   99990.0   \n",
       "167                         0           7      16            3  229990.0   \n",
       "\n",
       "     Size(Inches)  \n",
       "0            13.3  \n",
       "1            14.0  \n",
       "2            15.6  \n",
       "3            14.0  \n",
       "4            14.0  \n",
       "..            ...  \n",
       "163          14.0  \n",
       "164          15.6  \n",
       "165          13.3  \n",
       "166          13.3  \n",
       "167          15.4  \n",
       "\n",
       "[168 rows x 12 columns]"
      ]
     },
     "execution_count": 13,
     "metadata": {},
     "output_type": "execute_result"
    }
   ],
   "source": [
    "df_model"
   ]
  },
  {
   "cell_type": "code",
   "execution_count": 14,
   "metadata": {
    "colab": {
     "base_uri": "https://localhost:8080/",
     "height": 526
    },
    "colab_type": "code",
    "id": "gVfj0mYXVmNI",
    "outputId": "34e9ef6f-58a5-4f7e-8876-1814a4ad03a4"
   },
   "outputs": [
    {
     "data": {
      "text/html": [
       "<div>\n",
       "<style scoped>\n",
       "    .dataframe tbody tr th:only-of-type {\n",
       "        vertical-align: middle;\n",
       "    }\n",
       "\n",
       "    .dataframe tbody tr th {\n",
       "        vertical-align: top;\n",
       "    }\n",
       "\n",
       "    .dataframe thead th {\n",
       "        text-align: right;\n",
       "    }\n",
       "</style>\n",
       "<table border=\"1\" class=\"dataframe\">\n",
       "  <thead>\n",
       "    <tr style=\"text-align: right;\">\n",
       "      <th></th>\n",
       "      <th>Processor Name_name_encoded</th>\n",
       "      <th>Processor Type_name_encoded</th>\n",
       "      <th>Operating System Type_name_encoded</th>\n",
       "      <th>Disk Drive_name_encoded</th>\n",
       "      <th>Company_name_encoded</th>\n",
       "      <th>Graphic Card_name_encoded</th>\n",
       "      <th>Touchscreen_name_encoded</th>\n",
       "      <th>Generation</th>\n",
       "      <th>RAM_GB</th>\n",
       "      <th>DDR_Version</th>\n",
       "      <th>Price</th>\n",
       "      <th>Size(Inches)</th>\n",
       "    </tr>\n",
       "  </thead>\n",
       "  <tbody>\n",
       "    <tr>\n",
       "      <th>Processor Name_name_encoded</th>\n",
       "      <td>1.000000</td>\n",
       "      <td>0.742602</td>\n",
       "      <td>-0.096599</td>\n",
       "      <td>0.068533</td>\n",
       "      <td>-0.063262</td>\n",
       "      <td>0.005676</td>\n",
       "      <td>0.102807</td>\n",
       "      <td>0.764036</td>\n",
       "      <td>0.150077</td>\n",
       "      <td>-0.119831</td>\n",
       "      <td>0.188404</td>\n",
       "      <td>-0.124664</td>\n",
       "    </tr>\n",
       "    <tr>\n",
       "      <th>Processor Type_name_encoded</th>\n",
       "      <td>0.742602</td>\n",
       "      <td>1.000000</td>\n",
       "      <td>-0.122598</td>\n",
       "      <td>0.047217</td>\n",
       "      <td>-0.202496</td>\n",
       "      <td>0.263632</td>\n",
       "      <td>-0.124099</td>\n",
       "      <td>0.825554</td>\n",
       "      <td>0.449275</td>\n",
       "      <td>-0.030417</td>\n",
       "      <td>0.452316</td>\n",
       "      <td>0.224925</td>\n",
       "    </tr>\n",
       "    <tr>\n",
       "      <th>Operating System Type_name_encoded</th>\n",
       "      <td>-0.096599</td>\n",
       "      <td>-0.122598</td>\n",
       "      <td>1.000000</td>\n",
       "      <td>-0.112576</td>\n",
       "      <td>-0.026529</td>\n",
       "      <td>-0.006316</td>\n",
       "      <td>0.106774</td>\n",
       "      <td>-0.049576</td>\n",
       "      <td>-0.068415</td>\n",
       "      <td>0.028285</td>\n",
       "      <td>-0.186222</td>\n",
       "      <td>-0.075359</td>\n",
       "    </tr>\n",
       "    <tr>\n",
       "      <th>Disk Drive_name_encoded</th>\n",
       "      <td>0.068533</td>\n",
       "      <td>0.047217</td>\n",
       "      <td>-0.112576</td>\n",
       "      <td>1.000000</td>\n",
       "      <td>-0.028318</td>\n",
       "      <td>0.007041</td>\n",
       "      <td>0.019840</td>\n",
       "      <td>-0.021804</td>\n",
       "      <td>0.096170</td>\n",
       "      <td>-0.189204</td>\n",
       "      <td>0.114285</td>\n",
       "      <td>-0.197880</td>\n",
       "    </tr>\n",
       "    <tr>\n",
       "      <th>Company_name_encoded</th>\n",
       "      <td>-0.063262</td>\n",
       "      <td>-0.202496</td>\n",
       "      <td>-0.026529</td>\n",
       "      <td>-0.028318</td>\n",
       "      <td>1.000000</td>\n",
       "      <td>-0.217786</td>\n",
       "      <td>0.329522</td>\n",
       "      <td>-0.168541</td>\n",
       "      <td>-0.180777</td>\n",
       "      <td>-0.041312</td>\n",
       "      <td>-0.156537</td>\n",
       "      <td>-0.165788</td>\n",
       "    </tr>\n",
       "    <tr>\n",
       "      <th>Graphic Card_name_encoded</th>\n",
       "      <td>0.005676</td>\n",
       "      <td>0.263632</td>\n",
       "      <td>-0.006316</td>\n",
       "      <td>0.007041</td>\n",
       "      <td>-0.217786</td>\n",
       "      <td>1.000000</td>\n",
       "      <td>-0.310530</td>\n",
       "      <td>0.067314</td>\n",
       "      <td>0.317199</td>\n",
       "      <td>0.191943</td>\n",
       "      <td>0.292668</td>\n",
       "      <td>0.516665</td>\n",
       "    </tr>\n",
       "    <tr>\n",
       "      <th>Touchscreen_name_encoded</th>\n",
       "      <td>0.102807</td>\n",
       "      <td>-0.124099</td>\n",
       "      <td>0.106774</td>\n",
       "      <td>0.019840</td>\n",
       "      <td>0.329522</td>\n",
       "      <td>-0.310530</td>\n",
       "      <td>1.000000</td>\n",
       "      <td>-0.037627</td>\n",
       "      <td>-0.155543</td>\n",
       "      <td>-0.099340</td>\n",
       "      <td>0.008641</td>\n",
       "      <td>-0.437700</td>\n",
       "    </tr>\n",
       "    <tr>\n",
       "      <th>Generation</th>\n",
       "      <td>0.764036</td>\n",
       "      <td>0.825554</td>\n",
       "      <td>-0.049576</td>\n",
       "      <td>-0.021804</td>\n",
       "      <td>-0.168541</td>\n",
       "      <td>0.067314</td>\n",
       "      <td>-0.037627</td>\n",
       "      <td>1.000000</td>\n",
       "      <td>0.199066</td>\n",
       "      <td>0.176033</td>\n",
       "      <td>0.206884</td>\n",
       "      <td>0.103280</td>\n",
       "    </tr>\n",
       "    <tr>\n",
       "      <th>RAM_GB</th>\n",
       "      <td>0.150077</td>\n",
       "      <td>0.449275</td>\n",
       "      <td>-0.068415</td>\n",
       "      <td>0.096170</td>\n",
       "      <td>-0.180777</td>\n",
       "      <td>0.317199</td>\n",
       "      <td>-0.155543</td>\n",
       "      <td>0.199066</td>\n",
       "      <td>1.000000</td>\n",
       "      <td>0.046124</td>\n",
       "      <td>0.844755</td>\n",
       "      <td>0.208940</td>\n",
       "    </tr>\n",
       "    <tr>\n",
       "      <th>DDR_Version</th>\n",
       "      <td>-0.119831</td>\n",
       "      <td>-0.030417</td>\n",
       "      <td>0.028285</td>\n",
       "      <td>-0.189204</td>\n",
       "      <td>-0.041312</td>\n",
       "      <td>0.191943</td>\n",
       "      <td>-0.099340</td>\n",
       "      <td>0.176033</td>\n",
       "      <td>0.046124</td>\n",
       "      <td>1.000000</td>\n",
       "      <td>0.009534</td>\n",
       "      <td>0.345581</td>\n",
       "    </tr>\n",
       "    <tr>\n",
       "      <th>Price</th>\n",
       "      <td>0.188404</td>\n",
       "      <td>0.452316</td>\n",
       "      <td>-0.186222</td>\n",
       "      <td>0.114285</td>\n",
       "      <td>-0.156537</td>\n",
       "      <td>0.292668</td>\n",
       "      <td>0.008641</td>\n",
       "      <td>0.206884</td>\n",
       "      <td>0.844755</td>\n",
       "      <td>0.009534</td>\n",
       "      <td>1.000000</td>\n",
       "      <td>0.210250</td>\n",
       "    </tr>\n",
       "    <tr>\n",
       "      <th>Size(Inches)</th>\n",
       "      <td>-0.124664</td>\n",
       "      <td>0.224925</td>\n",
       "      <td>-0.075359</td>\n",
       "      <td>-0.197880</td>\n",
       "      <td>-0.165788</td>\n",
       "      <td>0.516665</td>\n",
       "      <td>-0.437700</td>\n",
       "      <td>0.103280</td>\n",
       "      <td>0.208940</td>\n",
       "      <td>0.345581</td>\n",
       "      <td>0.210250</td>\n",
       "      <td>1.000000</td>\n",
       "    </tr>\n",
       "  </tbody>\n",
       "</table>\n",
       "</div>"
      ],
      "text/plain": [
       "                                    Processor Name_name_encoded  \\\n",
       "Processor Name_name_encoded                            1.000000   \n",
       "Processor Type_name_encoded                            0.742602   \n",
       "Operating System Type_name_encoded                    -0.096599   \n",
       "Disk Drive_name_encoded                                0.068533   \n",
       "Company_name_encoded                                  -0.063262   \n",
       "Graphic Card_name_encoded                              0.005676   \n",
       "Touchscreen_name_encoded                               0.102807   \n",
       "Generation                                             0.764036   \n",
       "RAM_GB                                                 0.150077   \n",
       "DDR_Version                                           -0.119831   \n",
       "Price                                                  0.188404   \n",
       "Size(Inches)                                          -0.124664   \n",
       "\n",
       "                                    Processor Type_name_encoded  \\\n",
       "Processor Name_name_encoded                            0.742602   \n",
       "Processor Type_name_encoded                            1.000000   \n",
       "Operating System Type_name_encoded                    -0.122598   \n",
       "Disk Drive_name_encoded                                0.047217   \n",
       "Company_name_encoded                                  -0.202496   \n",
       "Graphic Card_name_encoded                              0.263632   \n",
       "Touchscreen_name_encoded                              -0.124099   \n",
       "Generation                                             0.825554   \n",
       "RAM_GB                                                 0.449275   \n",
       "DDR_Version                                           -0.030417   \n",
       "Price                                                  0.452316   \n",
       "Size(Inches)                                           0.224925   \n",
       "\n",
       "                                    Operating System Type_name_encoded  \\\n",
       "Processor Name_name_encoded                                  -0.096599   \n",
       "Processor Type_name_encoded                                  -0.122598   \n",
       "Operating System Type_name_encoded                            1.000000   \n",
       "Disk Drive_name_encoded                                      -0.112576   \n",
       "Company_name_encoded                                         -0.026529   \n",
       "Graphic Card_name_encoded                                    -0.006316   \n",
       "Touchscreen_name_encoded                                      0.106774   \n",
       "Generation                                                   -0.049576   \n",
       "RAM_GB                                                       -0.068415   \n",
       "DDR_Version                                                   0.028285   \n",
       "Price                                                        -0.186222   \n",
       "Size(Inches)                                                 -0.075359   \n",
       "\n",
       "                                    Disk Drive_name_encoded  \\\n",
       "Processor Name_name_encoded                        0.068533   \n",
       "Processor Type_name_encoded                        0.047217   \n",
       "Operating System Type_name_encoded                -0.112576   \n",
       "Disk Drive_name_encoded                            1.000000   \n",
       "Company_name_encoded                              -0.028318   \n",
       "Graphic Card_name_encoded                          0.007041   \n",
       "Touchscreen_name_encoded                           0.019840   \n",
       "Generation                                        -0.021804   \n",
       "RAM_GB                                             0.096170   \n",
       "DDR_Version                                       -0.189204   \n",
       "Price                                              0.114285   \n",
       "Size(Inches)                                      -0.197880   \n",
       "\n",
       "                                    Company_name_encoded  \\\n",
       "Processor Name_name_encoded                    -0.063262   \n",
       "Processor Type_name_encoded                    -0.202496   \n",
       "Operating System Type_name_encoded             -0.026529   \n",
       "Disk Drive_name_encoded                        -0.028318   \n",
       "Company_name_encoded                            1.000000   \n",
       "Graphic Card_name_encoded                      -0.217786   \n",
       "Touchscreen_name_encoded                        0.329522   \n",
       "Generation                                     -0.168541   \n",
       "RAM_GB                                         -0.180777   \n",
       "DDR_Version                                    -0.041312   \n",
       "Price                                          -0.156537   \n",
       "Size(Inches)                                   -0.165788   \n",
       "\n",
       "                                    Graphic Card_name_encoded  \\\n",
       "Processor Name_name_encoded                          0.005676   \n",
       "Processor Type_name_encoded                          0.263632   \n",
       "Operating System Type_name_encoded                  -0.006316   \n",
       "Disk Drive_name_encoded                              0.007041   \n",
       "Company_name_encoded                                -0.217786   \n",
       "Graphic Card_name_encoded                            1.000000   \n",
       "Touchscreen_name_encoded                            -0.310530   \n",
       "Generation                                           0.067314   \n",
       "RAM_GB                                               0.317199   \n",
       "DDR_Version                                          0.191943   \n",
       "Price                                                0.292668   \n",
       "Size(Inches)                                         0.516665   \n",
       "\n",
       "                                    Touchscreen_name_encoded  Generation  \\\n",
       "Processor Name_name_encoded                         0.102807    0.764036   \n",
       "Processor Type_name_encoded                        -0.124099    0.825554   \n",
       "Operating System Type_name_encoded                  0.106774   -0.049576   \n",
       "Disk Drive_name_encoded                             0.019840   -0.021804   \n",
       "Company_name_encoded                                0.329522   -0.168541   \n",
       "Graphic Card_name_encoded                          -0.310530    0.067314   \n",
       "Touchscreen_name_encoded                            1.000000   -0.037627   \n",
       "Generation                                         -0.037627    1.000000   \n",
       "RAM_GB                                             -0.155543    0.199066   \n",
       "DDR_Version                                        -0.099340    0.176033   \n",
       "Price                                               0.008641    0.206884   \n",
       "Size(Inches)                                       -0.437700    0.103280   \n",
       "\n",
       "                                      RAM_GB  DDR_Version     Price  \\\n",
       "Processor Name_name_encoded         0.150077    -0.119831  0.188404   \n",
       "Processor Type_name_encoded         0.449275    -0.030417  0.452316   \n",
       "Operating System Type_name_encoded -0.068415     0.028285 -0.186222   \n",
       "Disk Drive_name_encoded             0.096170    -0.189204  0.114285   \n",
       "Company_name_encoded               -0.180777    -0.041312 -0.156537   \n",
       "Graphic Card_name_encoded           0.317199     0.191943  0.292668   \n",
       "Touchscreen_name_encoded           -0.155543    -0.099340  0.008641   \n",
       "Generation                          0.199066     0.176033  0.206884   \n",
       "RAM_GB                              1.000000     0.046124  0.844755   \n",
       "DDR_Version                         0.046124     1.000000  0.009534   \n",
       "Price                               0.844755     0.009534  1.000000   \n",
       "Size(Inches)                        0.208940     0.345581  0.210250   \n",
       "\n",
       "                                    Size(Inches)  \n",
       "Processor Name_name_encoded            -0.124664  \n",
       "Processor Type_name_encoded             0.224925  \n",
       "Operating System Type_name_encoded     -0.075359  \n",
       "Disk Drive_name_encoded                -0.197880  \n",
       "Company_name_encoded                   -0.165788  \n",
       "Graphic Card_name_encoded               0.516665  \n",
       "Touchscreen_name_encoded               -0.437700  \n",
       "Generation                              0.103280  \n",
       "RAM_GB                                  0.208940  \n",
       "DDR_Version                             0.345581  \n",
       "Price                                   0.210250  \n",
       "Size(Inches)                            1.000000  "
      ]
     },
     "execution_count": 14,
     "metadata": {},
     "output_type": "execute_result"
    }
   ],
   "source": [
    "df_model.corr()"
   ]
  },
  {
   "cell_type": "code",
   "execution_count": 15,
   "metadata": {
    "colab": {},
    "colab_type": "code",
    "id": "qt2Yy_6FVoFO"
   },
   "outputs": [],
   "source": [
    "from sklearn.model_selection import train_test_split\n",
    "X_train,X_test,Y_train,Y_test = train_test_split(X,Y,test_size=0.2,random_state=42)"
   ]
  },
  {
   "cell_type": "code",
   "execution_count": 16,
   "metadata": {},
   "outputs": [
    {
     "data": {
      "text/html": [
       "<table class=\"simpletable\">\n",
       "<caption>OLS Regression Results</caption>\n",
       "<tr>\n",
       "  <th>Dep. Variable:</th>            <td>y</td>        <th>  R-squared:         </th> <td>   0.775</td>\n",
       "</tr>\n",
       "<tr>\n",
       "  <th>Model:</th>                   <td>OLS</td>       <th>  Adj. R-squared:    </th> <td>   0.759</td>\n",
       "</tr>\n",
       "<tr>\n",
       "  <th>Method:</th>             <td>Least Squares</td>  <th>  F-statistic:       </th> <td>   48.84</td>\n",
       "</tr>\n",
       "<tr>\n",
       "  <th>Date:</th>             <td>Mon, 12 Oct 2020</td> <th>  Prob (F-statistic):</th> <td>7.02e-45</td>\n",
       "</tr>\n",
       "<tr>\n",
       "  <th>Time:</th>                 <td>01:05:26</td>     <th>  Log-Likelihood:    </th> <td> -1923.9</td>\n",
       "</tr>\n",
       "<tr>\n",
       "  <th>No. Observations:</th>      <td>   168</td>      <th>  AIC:               </th> <td>   3872.</td>\n",
       "</tr>\n",
       "<tr>\n",
       "  <th>Df Residuals:</th>          <td>   156</td>      <th>  BIC:               </th> <td>   3909.</td>\n",
       "</tr>\n",
       "<tr>\n",
       "  <th>Df Model:</th>              <td>    11</td>      <th>                     </th>     <td> </td>   \n",
       "</tr>\n",
       "<tr>\n",
       "  <th>Covariance Type:</th>      <td>nonrobust</td>    <th>                     </th>     <td> </td>   \n",
       "</tr>\n",
       "</table>\n",
       "<table class=\"simpletable\">\n",
       "<tr>\n",
       "                   <td></td>                     <th>coef</th>     <th>std err</th>      <th>t</th>      <th>P>|t|</th>  <th>[0.025</th>    <th>0.975]</th>  \n",
       "</tr>\n",
       "<tr>\n",
       "  <th>const</th>                              <td>-2.962e+04</td> <td> 3.71e+04</td> <td>   -0.799</td> <td> 0.426</td> <td>-1.03e+05</td> <td> 4.36e+04</td>\n",
       "</tr>\n",
       "<tr>\n",
       "  <th>Processor Name_name_encoded</th>        <td> -453.5480</td> <td> 9648.809</td> <td>   -0.047</td> <td> 0.963</td> <td>-1.95e+04</td> <td> 1.86e+04</td>\n",
       "</tr>\n",
       "<tr>\n",
       "  <th>Processor Type_name_encoded</th>        <td> 2734.7957</td> <td> 2279.056</td> <td>    1.200</td> <td> 0.232</td> <td>-1766.994</td> <td> 7236.586</td>\n",
       "</tr>\n",
       "<tr>\n",
       "  <th>Operating System Type_name_encoded</th> <td>-1.355e+04</td> <td> 3939.170</td> <td>   -3.439</td> <td> 0.001</td> <td>-2.13e+04</td> <td>-5765.229</td>\n",
       "</tr>\n",
       "<tr>\n",
       "  <th>Disk Drive_name_encoded</th>            <td> 1495.1140</td> <td> 2242.735</td> <td>    0.667</td> <td> 0.506</td> <td>-2934.933</td> <td> 5925.161</td>\n",
       "</tr>\n",
       "<tr>\n",
       "  <th>Company_name_encoded</th>               <td> -987.5203</td> <td>  722.167</td> <td>   -1.367</td> <td> 0.173</td> <td>-2414.008</td> <td>  438.967</td>\n",
       "</tr>\n",
       "<tr>\n",
       "  <th>Graphic Card_name_encoded</th>          <td> 2122.5990</td> <td> 4693.042</td> <td>    0.452</td> <td> 0.652</td> <td>-7147.508</td> <td> 1.14e+04</td>\n",
       "</tr>\n",
       "<tr>\n",
       "  <th>Touchscreen_name_encoded</th>           <td> 3.128e+04</td> <td> 6156.306</td> <td>    5.081</td> <td> 0.000</td> <td> 1.91e+04</td> <td> 4.34e+04</td>\n",
       "</tr>\n",
       "<tr>\n",
       "  <th>Generation</th>                         <td> -861.6577</td> <td> 1275.803</td> <td>   -0.675</td> <td> 0.500</td> <td>-3381.735</td> <td> 1658.420</td>\n",
       "</tr>\n",
       "<tr>\n",
       "  <th>RAM_GB</th>                             <td> 9045.3918</td> <td>  543.121</td> <td>   16.654</td> <td> 0.000</td> <td> 7972.571</td> <td> 1.01e+04</td>\n",
       "</tr>\n",
       "<tr>\n",
       "  <th>DDR_Version</th>                        <td>-2715.6756</td> <td> 5221.421</td> <td>   -0.520</td> <td> 0.604</td> <td> -1.3e+04</td> <td> 7598.133</td>\n",
       "</tr>\n",
       "<tr>\n",
       "  <th>Size(Inches)</th>                       <td> 4322.2077</td> <td> 2171.051</td> <td>    1.991</td> <td> 0.048</td> <td>   33.757</td> <td> 8610.658</td>\n",
       "</tr>\n",
       "</table>\n",
       "<table class=\"simpletable\">\n",
       "<tr>\n",
       "  <th>Omnibus:</th>       <td>10.607</td> <th>  Durbin-Watson:     </th> <td>   1.876</td>\n",
       "</tr>\n",
       "<tr>\n",
       "  <th>Prob(Omnibus):</th> <td> 0.005</td> <th>  Jarque-Bera (JB):  </th> <td>  18.015</td>\n",
       "</tr>\n",
       "<tr>\n",
       "  <th>Skew:</th>          <td> 0.294</td> <th>  Prob(JB):          </th> <td>0.000123</td>\n",
       "</tr>\n",
       "<tr>\n",
       "  <th>Kurtosis:</th>      <td> 4.493</td> <th>  Cond. No.          </th> <td>    434.</td>\n",
       "</tr>\n",
       "</table><br/><br/>Notes:<br/>[1] Standard Errors assume that the covariance matrix of the errors is correctly specified."
      ],
      "text/plain": [
       "<class 'statsmodels.iolib.summary.Summary'>\n",
       "\"\"\"\n",
       "                            OLS Regression Results                            \n",
       "==============================================================================\n",
       "Dep. Variable:                      y   R-squared:                       0.775\n",
       "Model:                            OLS   Adj. R-squared:                  0.759\n",
       "Method:                 Least Squares   F-statistic:                     48.84\n",
       "Date:                Mon, 12 Oct 2020   Prob (F-statistic):           7.02e-45\n",
       "Time:                        01:05:26   Log-Likelihood:                -1923.9\n",
       "No. Observations:                 168   AIC:                             3872.\n",
       "Df Residuals:                     156   BIC:                             3909.\n",
       "Df Model:                          11                                         \n",
       "Covariance Type:            nonrobust                                         \n",
       "======================================================================================================\n",
       "                                         coef    std err          t      P>|t|      [0.025      0.975]\n",
       "------------------------------------------------------------------------------------------------------\n",
       "const                              -2.962e+04   3.71e+04     -0.799      0.426   -1.03e+05    4.36e+04\n",
       "Processor Name_name_encoded         -453.5480   9648.809     -0.047      0.963   -1.95e+04    1.86e+04\n",
       "Processor Type_name_encoded         2734.7957   2279.056      1.200      0.232   -1766.994    7236.586\n",
       "Operating System Type_name_encoded -1.355e+04   3939.170     -3.439      0.001   -2.13e+04   -5765.229\n",
       "Disk Drive_name_encoded             1495.1140   2242.735      0.667      0.506   -2934.933    5925.161\n",
       "Company_name_encoded                -987.5203    722.167     -1.367      0.173   -2414.008     438.967\n",
       "Graphic Card_name_encoded           2122.5990   4693.042      0.452      0.652   -7147.508    1.14e+04\n",
       "Touchscreen_name_encoded            3.128e+04   6156.306      5.081      0.000    1.91e+04    4.34e+04\n",
       "Generation                          -861.6577   1275.803     -0.675      0.500   -3381.735    1658.420\n",
       "RAM_GB                              9045.3918    543.121     16.654      0.000    7972.571    1.01e+04\n",
       "DDR_Version                        -2715.6756   5221.421     -0.520      0.604    -1.3e+04    7598.133\n",
       "Size(Inches)                        4322.2077   2171.051      1.991      0.048      33.757    8610.658\n",
       "==============================================================================\n",
       "Omnibus:                       10.607   Durbin-Watson:                   1.876\n",
       "Prob(Omnibus):                  0.005   Jarque-Bera (JB):               18.015\n",
       "Skew:                           0.294   Prob(JB):                     0.000123\n",
       "Kurtosis:                       4.493   Cond. No.                         434.\n",
       "==============================================================================\n",
       "\n",
       "Notes:\n",
       "[1] Standard Errors assume that the covariance matrix of the errors is correctly specified.\n",
       "\"\"\""
      ]
     },
     "execution_count": 16,
     "metadata": {},
     "output_type": "execute_result"
    }
   ],
   "source": [
    "import statsmodels.api as sm\n",
    "X_sm= X = sm.add_constant(X)\n",
    "model=sm.OLS(Y,X_sm)  \n",
    "model.fit().summary() "
   ]
  },
  {
   "cell_type": "markdown",
   "metadata": {
    "colab_type": "text",
    "id": "MjSl8g_lA323"
   },
   "source": [
    "# Linear Regression"
   ]
  },
  {
   "cell_type": "code",
   "execution_count": 20,
   "metadata": {
    "colab": {
     "base_uri": "https://localhost:8080/",
     "height": 34
    },
    "colab_type": "code",
    "id": "7-m5BMJNaC1M",
    "outputId": "c7db652e-9796-4125-8c03-1e624f9a83ff"
   },
   "outputs": [
    {
     "data": {
      "text/plain": [
       "LinearRegression()"
      ]
     },
     "execution_count": 20,
     "metadata": {},
     "output_type": "execute_result"
    }
   ],
   "source": [
    "from sklearn.linear_model import LinearRegression,Lasso\n",
    "from sklearn.model_selection import cross_val_score\n",
    "\n",
    "lm = LinearRegression()\n",
    "lm.fit(X_train,Y_train)"
   ]
  },
  {
   "cell_type": "code",
   "execution_count": 21,
   "metadata": {
    "colab": {
     "base_uri": "https://localhost:8080/",
     "height": 34
    },
    "colab_type": "code",
    "id": "Uuu0qgnGBBN7",
    "outputId": "490cb9c8-7db0-4c12-feeb-0b9cddc32cd6"
   },
   "outputs": [
    {
     "data": {
      "text/plain": [
       "0.7091585799096055"
      ]
     },
     "execution_count": 21,
     "metadata": {},
     "output_type": "execute_result"
    }
   ],
   "source": [
    "lm.score(X_test,Y_test)"
   ]
  },
  {
   "cell_type": "code",
   "execution_count": 22,
   "metadata": {
    "colab": {
     "base_uri": "https://localhost:8080/",
     "height": 34
    },
    "colab_type": "code",
    "id": "VlWkNtv7BPL-",
    "outputId": "3314e854-f53a-45d3-d999-3c3f464ef8f1"
   },
   "outputs": [
    {
     "data": {
      "text/plain": [
       "16794.37586646763"
      ]
     },
     "execution_count": 22,
     "metadata": {},
     "output_type": "execute_result"
    }
   ],
   "source": [
    "y_linear = lm.predict(X_test)\n",
    "from sklearn.metrics import mean_absolute_error\n",
    "mean_absolute_error(y_linear,Y_test)"
   ]
  },
  {
   "cell_type": "code",
   "execution_count": 23,
   "metadata": {
    "colab": {
     "base_uri": "https://localhost:8080/",
     "height": 34
    },
    "colab_type": "code",
    "id": "e0QZucNOBcKR",
    "outputId": "24d53e8d-4531-4079-db84-152c14608bf5"
   },
   "outputs": [
    {
     "data": {
      "text/plain": [
       "0.6158177344937836"
      ]
     },
     "execution_count": 23,
     "metadata": {},
     "output_type": "execute_result"
    }
   ],
   "source": [
    "from sklearn.metrics import r2_score\n",
    "r2_score(y_linear,Y_test)"
   ]
  },
  {
   "cell_type": "markdown",
   "metadata": {
    "colab_type": "text",
    "id": "b_97iMTtBjvf"
   },
   "source": [
    "# Lasso Regression"
   ]
  },
  {
   "cell_type": "code",
   "execution_count": 24,
   "metadata": {
    "colab": {},
    "colab_type": "code",
    "id": "AMp1-13dBhsh"
   },
   "outputs": [],
   "source": [
    "from sklearn.linear_model import Lasso"
   ]
  },
  {
   "cell_type": "code",
   "execution_count": 25,
   "metadata": {
    "colab": {
     "base_uri": "https://localhost:8080/",
     "height": 34
    },
    "colab_type": "code",
    "id": "NSN6p13yBsFh",
    "outputId": "6657077f-a738-46e5-8784-2448b4643f29"
   },
   "outputs": [
    {
     "data": {
      "text/plain": [
       "-20356.618201256166"
      ]
     },
     "execution_count": 25,
     "metadata": {},
     "output_type": "execute_result"
    }
   ],
   "source": [
    "lm_l = Lasso(alpha=0.13)\n",
    "lm_l.fit(X_train,Y_train)\n",
    "np.mean(cross_val_score(lm_l,X_train,Y_train,scoring='neg_mean_absolute_error',cv=3)) "
   ]
  },
  {
   "cell_type": "code",
   "execution_count": 26,
   "metadata": {
    "colab": {},
    "colab_type": "code",
    "id": "VHTyPTp7BwVI"
   },
   "outputs": [],
   "source": [
    "y_lasso = lm_l.predict(X_test)"
   ]
  },
  {
   "cell_type": "code",
   "execution_count": 27,
   "metadata": {
    "colab": {
     "base_uri": "https://localhost:8080/",
     "height": 34
    },
    "colab_type": "code",
    "id": "R90-RuAFB2zr",
    "outputId": "1e4cc2c6-4b6f-46c2-b4b6-95f980979654"
   },
   "outputs": [
    {
     "data": {
      "text/plain": [
       "16794.25374081781"
      ]
     },
     "execution_count": 27,
     "metadata": {},
     "output_type": "execute_result"
    }
   ],
   "source": [
    "from sklearn.metrics import mean_absolute_error\n",
    "mean_absolute_error(y_lasso,Y_test)"
   ]
  },
  {
   "cell_type": "code",
   "execution_count": 28,
   "metadata": {
    "colab": {
     "base_uri": "https://localhost:8080/",
     "height": 34
    },
    "colab_type": "code",
    "id": "t19VWXkKCAP3",
    "outputId": "a1147fe3-523b-4d26-fb03-6d1cf52f8ac7"
   },
   "outputs": [
    {
     "data": {
      "text/plain": [
       "0.615810462331034"
      ]
     },
     "execution_count": 28,
     "metadata": {},
     "output_type": "execute_result"
    }
   ],
   "source": [
    "from sklearn.metrics import r2_score\n",
    "r2_score(y_lasso,Y_test)"
   ]
  },
  {
   "cell_type": "markdown",
   "metadata": {
    "colab_type": "text",
    "id": "UeT8PvbXCLY8"
   },
   "source": [
    "# Random Forest"
   ]
  },
  {
   "cell_type": "code",
   "execution_count": 29,
   "metadata": {
    "colab": {},
    "colab_type": "code",
    "id": "CL-fuhD7CDQA"
   },
   "outputs": [],
   "source": [
    "from sklearn.ensemble import RandomForestRegressor\n",
    "rf = RandomForestRegressor(random_state=0)"
   ]
  },
  {
   "cell_type": "code",
   "execution_count": 30,
   "metadata": {},
   "outputs": [
    {
     "data": {
      "text/plain": [
       "RandomForestRegressor(random_state=0)"
      ]
     },
     "execution_count": 30,
     "metadata": {},
     "output_type": "execute_result"
    }
   ],
   "source": [
    "rf.fit(X_train,Y_train)"
   ]
  },
  {
   "cell_type": "code",
   "execution_count": 31,
   "metadata": {
    "colab": {
     "base_uri": "https://localhost:8080/",
     "height": 34
    },
    "colab_type": "code",
    "id": "orOpoiAkCR1L",
    "outputId": "a3c631fa-59b8-45ab-ea2a-f765056a4d85"
   },
   "outputs": [
    {
     "data": {
      "text/plain": [
       "-14395.306103575436"
      ]
     },
     "execution_count": 31,
     "metadata": {},
     "output_type": "execute_result"
    }
   ],
   "source": [
    "np.mean(cross_val_score(rf,X_train,Y_train,scoring='neg_mean_absolute_error',cv=3))"
   ]
  },
  {
   "cell_type": "code",
   "execution_count": 33,
   "metadata": {},
   "outputs": [
    {
     "name": "stdout",
     "output_type": "stream",
     "text": [
      "8472.512815126049\n",
      "0.8250723616423763\n"
     ]
    }
   ],
   "source": [
    "ypred_rf = rf.predict(X_test)\n",
    "print(mean_absolute_error(Y_test,ypred_rf))\n",
    "print(r2_score(ypred_rf,Y_test))"
   ]
  },
  {
   "cell_type": "code",
   "execution_count": 34,
   "metadata": {},
   "outputs": [
    {
     "data": {
      "text/plain": [
       "array([ 36557.16666667, 194095.6       ,  61771.57      ,  56185.        ,\n",
       "       193255.5       , 122448.2       ,  94007.22      ,  90390.2       ,\n",
       "        42562.44      ,  54350.71333333,  55448.72666667,  63316.26      ,\n",
       "        56134.76      ,  43629.81      ,  61974.17952381,  38275.32666667,\n",
       "        53009.33333333,  56185.        ,  94817.59      ,  38351.56      ,\n",
       "        61251.57      ,  61251.57      ,  69978.82      ,  60155.        ,\n",
       "        61974.17952381,  54350.71333333,  38268.09      , 235059.        ,\n",
       "        37901.41333333,  51150.        ,  56677.83666667,  94007.22      ,\n",
       "        73112.78      ,  37814.55333333])"
      ]
     },
     "execution_count": 34,
     "metadata": {},
     "output_type": "execute_result"
    }
   ],
   "source": [
    "ypred_rf"
   ]
  },
  {
   "cell_type": "markdown",
   "metadata": {
    "colab_type": "text",
    "id": "EvY-TckZCZOA"
   },
   "source": [
    "### Tuning the model using GridSearchCV"
   ]
  },
  {
   "cell_type": "code",
   "execution_count": 146,
   "metadata": {
    "colab": {},
    "colab_type": "code",
    "id": "6h3-oJk4GuFV"
   },
   "outputs": [],
   "source": [
    "from sklearn.model_selection import GridSearchCV\n",
    "parameters = {'n_estimators':range(10,300,10), 'criterion':('mse','mae'), 'max_features':('auto','sqrt','log2')}"
   ]
  },
  {
   "cell_type": "code",
   "execution_count": 147,
   "metadata": {
    "colab": {
     "base_uri": "https://localhost:8080/",
     "height": 357
    },
    "colab_type": "code",
    "id": "Bn4uEq8kCWie",
    "outputId": "b0cfbcb0-0b18-410c-fe20-eade48313b5f"
   },
   "outputs": [
    {
     "data": {
      "text/plain": [
       "GridSearchCV(cv=3, estimator=RandomForestRegressor(random_state=0),\n",
       "             param_grid={'criterion': ('mse', 'mae'),\n",
       "                         'max_features': ('auto', 'sqrt', 'log2'),\n",
       "                         'n_estimators': range(10, 300, 10)},\n",
       "             scoring='neg_mean_absolute_error')"
      ]
     },
     "execution_count": 147,
     "metadata": {},
     "output_type": "execute_result"
    }
   ],
   "source": [
    "gs = GridSearchCV(rf,parameters,scoring='neg_mean_absolute_error',cv=3)\n",
    "gs.fit(X_train,Y_train)"
   ]
  },
  {
   "cell_type": "code",
   "execution_count": 148,
   "metadata": {
    "colab": {
     "base_uri": "https://localhost:8080/",
     "height": 136
    },
    "colab_type": "code",
    "id": "mSkI7-2ACccr",
    "outputId": "5361ef82-8999-48f6-ccdb-96e5f879006b"
   },
   "outputs": [
    {
     "data": {
      "text/plain": [
       "RandomForestRegressor(n_estimators=220, random_state=0)"
      ]
     },
     "execution_count": 148,
     "metadata": {},
     "output_type": "execute_result"
    }
   ],
   "source": [
    "gs.best_score_ \n",
    "gs.best_estimator_"
   ]
  },
  {
   "cell_type": "code",
   "execution_count": 149,
   "metadata": {
    "colab": {},
    "colab_type": "code",
    "id": "9hgRT-7PCfWP"
   },
   "outputs": [],
   "source": [
    "tpred_rf=gs.best_estimator_.predict(X_test)"
   ]
  },
  {
   "cell_type": "code",
   "execution_count": 150,
   "metadata": {
    "colab": {
     "base_uri": "https://localhost:8080/",
     "height": 34
    },
    "colab_type": "code",
    "id": "OY2vtzAlCjyS",
    "outputId": "7dc02330-fa1a-40c2-8098-410d8742d045"
   },
   "outputs": [
    {
     "data": {
      "text/plain": [
       "8306.280404889227"
      ]
     },
     "execution_count": 150,
     "metadata": {},
     "output_type": "execute_result"
    }
   ],
   "source": [
    "from sklearn.metrics import mean_absolute_error\n",
    "mean_absolute_error(Y_test,tpred_rf)"
   ]
  },
  {
   "cell_type": "code",
   "execution_count": 151,
   "metadata": {
    "colab": {
     "base_uri": "https://localhost:8080/",
     "height": 34
    },
    "colab_type": "code",
    "id": "7kzwfJV8CmYR",
    "outputId": "569a6ee1-0dbf-43be-dc2d-cbeda099d44f"
   },
   "outputs": [
    {
     "data": {
      "text/plain": [
       "0.8321379489620804"
      ]
     },
     "execution_count": 151,
     "metadata": {},
     "output_type": "execute_result"
    }
   ],
   "source": [
    "from sklearn.metrics import r2_score\n",
    "r2_score(tpred_rf,Y_test)"
   ]
  },
  {
   "cell_type": "markdown",
   "metadata": {
    "colab_type": "text",
    "id": "pbSsjgd2CqPW"
   },
   "source": [
    "# XGBoost"
   ]
  },
  {
   "cell_type": "code",
   "execution_count": 45,
   "metadata": {
    "colab": {
     "base_uri": "https://localhost:8080/",
     "height": 153
    },
    "colab_type": "code",
    "id": "e-s7vF53Cshb",
    "outputId": "1e481803-928d-4a66-ce89-83ac695d6619"
   },
   "outputs": [
    {
     "name": "stdout",
     "output_type": "stream",
     "text": [
      "[03:51:59] WARNING: /workspace/src/objective/regression_obj.cu:152: reg:linear is now deprecated in favor of reg:squarederror.\n"
     ]
    },
    {
     "data": {
      "text/plain": [
       "XGBRegressor(base_score=0.5, booster='gbtree', colsample_bylevel=1,\n",
       "             colsample_bynode=1, colsample_bytree=1, gamma=0,\n",
       "             importance_type='gain', learning_rate=0.1, max_delta_step=0,\n",
       "             max_depth=3, min_child_weight=1, missing=None, n_estimators=100,\n",
       "             n_jobs=1, nthread=None, objective='reg:linear', random_state=0,\n",
       "             reg_alpha=0, reg_lambda=1, scale_pos_weight=1, seed=None,\n",
       "             silent=None, subsample=1, verbosity=1)"
      ]
     },
     "execution_count": 45,
     "metadata": {
      "tags": []
     },
     "output_type": "execute_result"
    }
   ],
   "source": [
    "from xgboost import XGBRegressor\n",
    "regressor = XGBRegressor(random_state = 0)\n",
    "regressor.fit(X_train,Y_train)"
   ]
  },
  {
   "cell_type": "code",
   "execution_count": 46,
   "metadata": {
    "colab": {
     "base_uri": "https://localhost:8080/",
     "height": 34
    },
    "colab_type": "code",
    "id": "xPnzLujHCwYM",
    "outputId": "952ff2c8-5c2e-4dfb-952b-323db3560298"
   },
   "outputs": [
    {
     "data": {
      "text/plain": [
       "8901.906020220587"
      ]
     },
     "execution_count": 46,
     "metadata": {
      "tags": []
     },
     "output_type": "execute_result"
    }
   ],
   "source": [
    " y_xgb = regressor.predict(X_test)\n",
    "from sklearn.metrics import mean_absolute_error\n",
    "mean_absolute_error(y_xgb,Y_test)"
   ]
  },
  {
   "cell_type": "code",
   "execution_count": 47,
   "metadata": {
    "colab": {
     "base_uri": "https://localhost:8080/",
     "height": 34
    },
    "colab_type": "code",
    "id": "wUuEzRinDAnO",
    "outputId": "750aa296-4c16-4715-8e88-75baa96a09b4"
   },
   "outputs": [
    {
     "data": {
      "text/plain": [
       "0.8155861407248293"
      ]
     },
     "execution_count": 47,
     "metadata": {
      "tags": []
     },
     "output_type": "execute_result"
    }
   ],
   "source": [
    "from sklearn.metrics import r2_score\n",
    "r2_score(y_xgb,Y_test)"
   ]
  },
  {
   "cell_type": "markdown",
   "metadata": {
    "colab_type": "text",
    "id": "TF-pnbCHDPCc"
   },
   "source": [
    "### Grid Search"
   ]
  },
  {
   "cell_type": "code",
   "execution_count": 48,
   "metadata": {
    "colab": {},
    "colab_type": "code",
    "id": "g3DMDN5jDP6D"
   },
   "outputs": [],
   "source": [
    "from xgboost import XGBRegressor\n",
    "xgb1 = XGBRegressor()\n",
    "parameters = {'nthread':[4], #when use hyperthread, xgboost may become slower\n",
    "              'objective':['reg:linear'],\n",
    "              'learning_rate': [.03, 0.05, .07], #so called `eta` value\n",
    "              'max_depth': [5, 6, 7],\n",
    "              'min_child_weight': [4],\n",
    "              'silent': [1],\n",
    "              'subsample': [0.7],\n",
    "              'colsample_bytree': [0.7],\n",
    "              'n_estimators': [500]}"
   ]
  },
  {
   "cell_type": "code",
   "execution_count": 49,
   "metadata": {
    "colab": {},
    "colab_type": "code",
    "id": "epPcxhcbDSIV"
   },
   "outputs": [],
   "source": [
    "from sklearn.model_selection import GridSearchCV\n",
    "xgb_grid = GridSearchCV(xgb1,\n",
    "                        parameters,\n",
    "                        cv = 2,\n",
    "                        n_jobs = 5,\n",
    "                        verbose=True)"
   ]
  },
  {
   "cell_type": "code",
   "execution_count": 50,
   "metadata": {
    "colab": {
     "base_uri": "https://localhost:8080/",
     "height": 425
    },
    "colab_type": "code",
    "id": "4KyH3KEzDZXT",
    "outputId": "3bce2894-9572-43aa-a2d5-6eaad34eb981"
   },
   "outputs": [
    {
     "name": "stdout",
     "output_type": "stream",
     "text": [
      "Fitting 2 folds for each of 9 candidates, totalling 18 fits\n"
     ]
    },
    {
     "name": "stderr",
     "output_type": "stream",
     "text": [
      "[Parallel(n_jobs=5)]: Using backend LokyBackend with 5 concurrent workers.\n",
      "[Parallel(n_jobs=5)]: Done  18 out of  18 | elapsed:   10.5s finished\n"
     ]
    },
    {
     "data": {
      "text/plain": [
       "GridSearchCV(cv=2, error_score=nan,\n",
       "             estimator=XGBRegressor(base_score=0.5, booster='gbtree',\n",
       "                                    colsample_bylevel=1, colsample_bynode=1,\n",
       "                                    colsample_bytree=1, gamma=0,\n",
       "                                    importance_type='gain', learning_rate=0.1,\n",
       "                                    max_delta_step=0, max_depth=3,\n",
       "                                    min_child_weight=1, missing=None,\n",
       "                                    n_estimators=100, n_jobs=1, nthread=None,\n",
       "                                    objective='reg:linear', random_state=0,\n",
       "                                    reg_alpha=0, reg_...\n",
       "                                    scale_pos_weight=1, seed=None, silent=None,\n",
       "                                    subsample=1, verbosity=1),\n",
       "             iid='deprecated', n_jobs=5,\n",
       "             param_grid={'colsample_bytree': [0.7],\n",
       "                         'learning_rate': [0.03, 0.05, 0.07],\n",
       "                         'max_depth': [5, 6, 7], 'min_child_weight': [4],\n",
       "                         'n_estimators': [500], 'nthread': [4],\n",
       "                         'objective': ['reg:linear'], 'silent': [1],\n",
       "                         'subsample': [0.7]},\n",
       "             pre_dispatch='2*n_jobs', refit=True, return_train_score=False,\n",
       "             scoring=None, verbose=True)"
      ]
     },
     "execution_count": 50,
     "metadata": {
      "tags": []
     },
     "output_type": "execute_result"
    }
   ],
   "source": [
    "xgb_grid.fit(X_train,Y_train)"
   ]
  },
  {
   "cell_type": "code",
   "execution_count": 51,
   "metadata": {
    "colab": {
     "base_uri": "https://localhost:8080/",
     "height": 71
    },
    "colab_type": "code",
    "id": "9tLkyM0WDdfz",
    "outputId": "daea65cb-6870-40fc-87ef-203cf56c58c9"
   },
   "outputs": [
    {
     "name": "stdout",
     "output_type": "stream",
     "text": [
      "0.7794078234013346\n",
      "{'colsample_bytree': 0.7, 'learning_rate': 0.03, 'max_depth': 5, 'min_child_weight': 4, 'n_estimators': 500, 'nthread': 4, 'objective': 'reg:linear', 'silent': 1, 'subsample': 0.7}\n"
     ]
    }
   ],
   "source": [
    "print(xgb_grid.best_score_)\n",
    "print(xgb_grid.best_params_)"
   ]
  },
  {
   "cell_type": "code",
   "execution_count": 53,
   "metadata": {
    "colab": {},
    "colab_type": "code",
    "id": "Mbl8i77aDh8L"
   },
   "outputs": [],
   "source": [
    "y_xgb1 = xgb_grid.predict(X_test)"
   ]
  },
  {
   "cell_type": "code",
   "execution_count": 54,
   "metadata": {
    "colab": {
     "base_uri": "https://localhost:8080/",
     "height": 34
    },
    "colab_type": "code",
    "id": "SmnfYivnDmF7",
    "outputId": "96c5914f-2326-4d75-b450-b3a8c852bd65"
   },
   "outputs": [
    {
     "data": {
      "text/plain": [
       "10187.63338694853"
      ]
     },
     "execution_count": 54,
     "metadata": {
      "tags": []
     },
     "output_type": "execute_result"
    }
   ],
   "source": [
    "from sklearn.metrics import mean_absolute_error\n",
    "mean_absolute_error(y_xgb1,Y_test)"
   ]
  },
  {
   "cell_type": "code",
   "execution_count": 56,
   "metadata": {
    "colab": {
     "base_uri": "https://localhost:8080/",
     "height": 34
    },
    "colab_type": "code",
    "id": "utfClJpnDt5n",
    "outputId": "b71a3bc3-6885-4dc6-bf1f-da8a58aff72c"
   },
   "outputs": [
    {
     "data": {
      "text/plain": [
       "0.8252279240297242"
      ]
     },
     "execution_count": 56,
     "metadata": {
      "tags": []
     },
     "output_type": "execute_result"
    }
   ],
   "source": [
    "from sklearn.metrics import r2_score\n",
    "r2_score(y_xgb1,Y_test)"
   ]
  },
  {
   "cell_type": "markdown",
   "metadata": {},
   "source": [
    "# Pickling (but using JobLib instead of Pickle)"
   ]
  },
  {
   "cell_type": "code",
   "execution_count": 152,
   "metadata": {},
   "outputs": [],
   "source": [
    "import joblib"
   ]
  },
  {
   "cell_type": "code",
   "execution_count": 153,
   "metadata": {},
   "outputs": [
    {
     "data": {
      "text/plain": [
       "['model1.pkl']"
      ]
     },
     "execution_count": 153,
     "metadata": {},
     "output_type": "execute_result"
    }
   ],
   "source": [
    "joblib.dump(yrf,'model1.pkl')"
   ]
  },
  {
   "cell_type": "code",
   "execution_count": 154,
   "metadata": {},
   "outputs": [],
   "source": [
    "model=joblib.load('model1.pkl')"
   ]
  },
  {
   "cell_type": "code",
   "execution_count": 155,
   "metadata": {},
   "outputs": [
    {
     "data": {
      "text/plain": [
       "194095.6"
      ]
     },
     "execution_count": 155,
     "metadata": {},
     "output_type": "execute_result"
    }
   ],
   "source": [
    "model.predict(np.array(list(X_test.iloc[1,:])).reshape(1,-1))[0]"
   ]
  },
  {
   "cell_type": "code",
   "execution_count": 156,
   "metadata": {},
   "outputs": [
    {
     "data": {
      "text/plain": [
       "array([ 1. ,  9. ,  3. ,  0. ,  0. ,  1. ,  0. ,  8. , 16. ,  4. , 15.6])"
      ]
     },
     "execution_count": 156,
     "metadata": {},
     "output_type": "execute_result"
    }
   ],
   "source": [
    "np.array(list(X_test.iloc[1,:]))"
   ]
  },
  {
   "cell_type": "code",
   "execution_count": 157,
   "metadata": {},
   "outputs": [
    {
     "data": {
      "text/plain": [
       "numpy.ndarray"
      ]
     },
     "execution_count": 157,
     "metadata": {},
     "output_type": "execute_result"
    }
   ],
   "source": [
    "type(np.array(list(X_test.iloc[1,:])))"
   ]
  },
  {
   "cell_type": "code",
   "execution_count": 71,
   "metadata": {},
   "outputs": [],
   "source": [
    "df.to_csv('with_encoded.csv')"
   ]
  },
  {
   "cell_type": "code",
   "execution_count": null,
   "metadata": {},
   "outputs": [],
   "source": []
  }
 ],
 "metadata": {
  "colab": {
   "name": "flipkart_modelbuildingipynb",
   "provenance": []
  },
  "kernelspec": {
   "display_name": "Python 3",
   "language": "python",
   "name": "python3"
  },
  "language_info": {
   "codemirror_mode": {
    "name": "ipython",
    "version": 3
   },
   "file_extension": ".py",
   "mimetype": "text/x-python",
   "name": "python",
   "nbconvert_exporter": "python",
   "pygments_lexer": "ipython3",
   "version": "3.8.5"
  }
 },
 "nbformat": 4,
 "nbformat_minor": 1
}
