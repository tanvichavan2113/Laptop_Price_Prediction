{
 "cells": [
  {
   "cell_type": "markdown",
   "metadata": {},
   "source": [
    "# Exploratory Data Analysis"
   ]
  },
  {
   "cell_type": "code",
   "execution_count": 236,
   "metadata": {},
   "outputs": [],
   "source": [
    "import pandas as pd\n",
    "import numpy as np\n",
    "import matplotlib.pyplot as plt\n",
    "import seaborn as sns"
   ]
  },
  {
   "cell_type": "code",
   "execution_count": 237,
   "metadata": {},
   "outputs": [],
   "source": [
    "df=pd.read_csv('changed.csv')"
   ]
  },
  {
   "cell_type": "code",
   "execution_count": 238,
   "metadata": {},
   "outputs": [
    {
     "data": {
      "text/plain": [
       "(168, 23)"
      ]
     },
     "execution_count": 238,
     "metadata": {},
     "output_type": "execute_result"
    }
   ],
   "source": [
    "df.shape"
   ]
  },
  {
   "cell_type": "code",
   "execution_count": 239,
   "metadata": {},
   "outputs": [],
   "source": [
    "df.drop('Unnamed: 0',axis=1,inplace=True)"
   ]
  },
  {
   "cell_type": "code",
   "execution_count": 241,
   "metadata": {},
   "outputs": [
    {
     "data": {
      "text/plain": [
       "(168, 22)"
      ]
     },
     "execution_count": 241,
     "metadata": {},
     "output_type": "execute_result"
    }
   ],
   "source": [
    "df.shape"
   ]
  },
  {
   "cell_type": "code",
   "execution_count": 242,
   "metadata": {},
   "outputs": [
    {
     "data": {
      "text/html": [
       "<div>\n",
       "<style scoped>\n",
       "    .dataframe tbody tr th:only-of-type {\n",
       "        vertical-align: middle;\n",
       "    }\n",
       "\n",
       "    .dataframe tbody tr th {\n",
       "        vertical-align: top;\n",
       "    }\n",
       "\n",
       "    .dataframe thead th {\n",
       "        text-align: right;\n",
       "    }\n",
       "</style>\n",
       "<table border=\"1\" class=\"dataframe\">\n",
       "  <thead>\n",
       "    <tr style=\"text-align: right;\">\n",
       "      <th></th>\n",
       "      <th>Description</th>\n",
       "      <th>Processor</th>\n",
       "      <th>RAM</th>\n",
       "      <th>Operating System</th>\n",
       "      <th>Storage</th>\n",
       "      <th>Display</th>\n",
       "      <th>Warranty</th>\n",
       "      <th>Price</th>\n",
       "      <th>RAM_GB</th>\n",
       "      <th>DDR_Version</th>\n",
       "      <th>...</th>\n",
       "      <th>Generation</th>\n",
       "      <th>Operating System Type</th>\n",
       "      <th>Storage_GB</th>\n",
       "      <th>Disk Drive</th>\n",
       "      <th>Size(Inches)</th>\n",
       "      <th>Company</th>\n",
       "      <th>Graphic Card</th>\n",
       "      <th>Touchscreen</th>\n",
       "      <th>SSD</th>\n",
       "      <th>HDD</th>\n",
       "    </tr>\n",
       "  </thead>\n",
       "  <tbody>\n",
       "    <tr>\n",
       "      <th>0</th>\n",
       "      <td>HP Spectre x360 Core i5 10th Gen - (8 GB/512 G...</td>\n",
       "      <td>Intel Core i5 Processor (10th Gen)</td>\n",
       "      <td>8 GB DDR4 RAM</td>\n",
       "      <td>64 bit Windows 10 Operating System</td>\n",
       "      <td>512 GB SSD</td>\n",
       "      <td>33.78 cm (13.3 inch) Touchscreen Display</td>\n",
       "      <td>1 Year Onsite Warranty</td>\n",
       "      <td>102990.0</td>\n",
       "      <td>8</td>\n",
       "      <td>4</td>\n",
       "      <td>...</td>\n",
       "      <td>10</td>\n",
       "      <td>Windows</td>\n",
       "      <td>512</td>\n",
       "      <td>SSD</td>\n",
       "      <td>13.3</td>\n",
       "      <td>HP</td>\n",
       "      <td>No</td>\n",
       "      <td>Yes</td>\n",
       "      <td>512</td>\n",
       "      <td>0</td>\n",
       "    </tr>\n",
       "    <tr>\n",
       "      <th>1</th>\n",
       "      <td>Asus VivoBook 14 Core i5 8th Gen - (8 GB/512 G...</td>\n",
       "      <td>Intel Core i5 Processor (8th Gen)</td>\n",
       "      <td>8 GB DDR4 RAM</td>\n",
       "      <td>64 bit Windows 10 Operating System</td>\n",
       "      <td>512 GB SSD</td>\n",
       "      <td>35.56 cm (14 inch) Display</td>\n",
       "      <td>1 Year Limited International Hardware Warranty</td>\n",
       "      <td>55990.0</td>\n",
       "      <td>8</td>\n",
       "      <td>4</td>\n",
       "      <td>...</td>\n",
       "      <td>8</td>\n",
       "      <td>Windows</td>\n",
       "      <td>512</td>\n",
       "      <td>SSD</td>\n",
       "      <td>14.0</td>\n",
       "      <td>Asus</td>\n",
       "      <td>Yes</td>\n",
       "      <td>No</td>\n",
       "      <td>512</td>\n",
       "      <td>0</td>\n",
       "    </tr>\n",
       "    <tr>\n",
       "      <th>2</th>\n",
       "      <td>Acer Aspire 7 Core i5 9th Gen - (8 GB/512 GB S...</td>\n",
       "      <td>Intel Core i5 Processor (9th Gen)</td>\n",
       "      <td>8 GB DDR4 RAM</td>\n",
       "      <td>64 bit Windows 10 Operating System</td>\n",
       "      <td>512 GB SSD</td>\n",
       "      <td>39.62 cm (15.6 inch) Display</td>\n",
       "      <td>1 Year International Travelers Warranty (ITW)</td>\n",
       "      <td>56990.0</td>\n",
       "      <td>8</td>\n",
       "      <td>4</td>\n",
       "      <td>...</td>\n",
       "      <td>9</td>\n",
       "      <td>Windows</td>\n",
       "      <td>512</td>\n",
       "      <td>SSD</td>\n",
       "      <td>15.6</td>\n",
       "      <td>Acer</td>\n",
       "      <td>Yes</td>\n",
       "      <td>No</td>\n",
       "      <td>512</td>\n",
       "      <td>0</td>\n",
       "    </tr>\n",
       "    <tr>\n",
       "      <th>3</th>\n",
       "      <td>Asus VivoBook 14 Ryzen 5 Quad Core 2nd Gen - (...</td>\n",
       "      <td>AMD Ryzen 5 Quad Core Processor (2nd Gen)</td>\n",
       "      <td>8 GB DDR4 RAM</td>\n",
       "      <td>64 bit Windows 10 Operating System</td>\n",
       "      <td>512 GB SSD</td>\n",
       "      <td>35.56 cm (14 inch) Display</td>\n",
       "      <td>1 Year Limited International Hardware Warranty</td>\n",
       "      <td>42990.0</td>\n",
       "      <td>8</td>\n",
       "      <td>4</td>\n",
       "      <td>...</td>\n",
       "      <td>2</td>\n",
       "      <td>Windows</td>\n",
       "      <td>512</td>\n",
       "      <td>SSD</td>\n",
       "      <td>14.0</td>\n",
       "      <td>Asus</td>\n",
       "      <td>No</td>\n",
       "      <td>No</td>\n",
       "      <td>512</td>\n",
       "      <td>0</td>\n",
       "    </tr>\n",
       "    <tr>\n",
       "      <th>4</th>\n",
       "      <td>HP 14s Core i5 10th Gen - (8 GB/512 GB SSD/Win...</td>\n",
       "      <td>Intel Core i5 Processor (10th Gen)</td>\n",
       "      <td>8 GB DDR4 RAM</td>\n",
       "      <td>64 bit Windows 10 Operating System</td>\n",
       "      <td>512 GB SSD</td>\n",
       "      <td>35.56 cm (14 inch) Display</td>\n",
       "      <td>1 Year Onsite Warranty</td>\n",
       "      <td>52990.0</td>\n",
       "      <td>8</td>\n",
       "      <td>4</td>\n",
       "      <td>...</td>\n",
       "      <td>10</td>\n",
       "      <td>Windows</td>\n",
       "      <td>512</td>\n",
       "      <td>SSD</td>\n",
       "      <td>14.0</td>\n",
       "      <td>HP</td>\n",
       "      <td>No</td>\n",
       "      <td>No</td>\n",
       "      <td>512</td>\n",
       "      <td>0</td>\n",
       "    </tr>\n",
       "  </tbody>\n",
       "</table>\n",
       "<p>5 rows × 22 columns</p>\n",
       "</div>"
      ],
      "text/plain": [
       "                                         Description  \\\n",
       "0  HP Spectre x360 Core i5 10th Gen - (8 GB/512 G...   \n",
       "1  Asus VivoBook 14 Core i5 8th Gen - (8 GB/512 G...   \n",
       "2  Acer Aspire 7 Core i5 9th Gen - (8 GB/512 GB S...   \n",
       "3  Asus VivoBook 14 Ryzen 5 Quad Core 2nd Gen - (...   \n",
       "4  HP 14s Core i5 10th Gen - (8 GB/512 GB SSD/Win...   \n",
       "\n",
       "                                   Processor            RAM  \\\n",
       "0         Intel Core i5 Processor (10th Gen)  8 GB DDR4 RAM   \n",
       "1          Intel Core i5 Processor (8th Gen)  8 GB DDR4 RAM   \n",
       "2          Intel Core i5 Processor (9th Gen)  8 GB DDR4 RAM   \n",
       "3  AMD Ryzen 5 Quad Core Processor (2nd Gen)  8 GB DDR4 RAM   \n",
       "4         Intel Core i5 Processor (10th Gen)  8 GB DDR4 RAM   \n",
       "\n",
       "                     Operating System     Storage  \\\n",
       "0  64 bit Windows 10 Operating System  512 GB SSD   \n",
       "1  64 bit Windows 10 Operating System  512 GB SSD   \n",
       "2  64 bit Windows 10 Operating System  512 GB SSD   \n",
       "3  64 bit Windows 10 Operating System  512 GB SSD   \n",
       "4  64 bit Windows 10 Operating System  512 GB SSD   \n",
       "\n",
       "                                    Display  \\\n",
       "0  33.78 cm (13.3 inch) Touchscreen Display   \n",
       "1                35.56 cm (14 inch) Display   \n",
       "2              39.62 cm (15.6 inch) Display   \n",
       "3                35.56 cm (14 inch) Display   \n",
       "4                35.56 cm (14 inch) Display   \n",
       "\n",
       "                                         Warranty     Price  RAM_GB  \\\n",
       "0                          1 Year Onsite Warranty  102990.0       8   \n",
       "1  1 Year Limited International Hardware Warranty   55990.0       8   \n",
       "2   1 Year International Travelers Warranty (ITW)   56990.0       8   \n",
       "3  1 Year Limited International Hardware Warranty   42990.0       8   \n",
       "4                          1 Year Onsite Warranty   52990.0       8   \n",
       "\n",
       "   DDR_Version  ... Generation Operating System Type  Storage_GB Disk Drive  \\\n",
       "0            4  ...         10               Windows         512        SSD   \n",
       "1            4  ...          8               Windows         512        SSD   \n",
       "2            4  ...          9               Windows         512        SSD   \n",
       "3            4  ...          2               Windows         512        SSD   \n",
       "4            4  ...         10               Windows         512        SSD   \n",
       "\n",
       "  Size(Inches) Company  Graphic Card Touchscreen   SSD HDD  \n",
       "0         13.3      HP            No         Yes  512    0  \n",
       "1         14.0    Asus           Yes          No  512    0  \n",
       "2         15.6    Acer           Yes          No  512    0  \n",
       "3         14.0    Asus            No          No  512    0  \n",
       "4         14.0      HP            No          No  512    0  \n",
       "\n",
       "[5 rows x 22 columns]"
      ]
     },
     "execution_count": 242,
     "metadata": {},
     "output_type": "execute_result"
    }
   ],
   "source": [
    "df.head()"
   ]
  },
  {
   "cell_type": "code",
   "execution_count": 243,
   "metadata": {},
   "outputs": [
    {
     "data": {
      "text/html": [
       "<div>\n",
       "<style scoped>\n",
       "    .dataframe tbody tr th:only-of-type {\n",
       "        vertical-align: middle;\n",
       "    }\n",
       "\n",
       "    .dataframe tbody tr th {\n",
       "        vertical-align: top;\n",
       "    }\n",
       "\n",
       "    .dataframe thead th {\n",
       "        text-align: right;\n",
       "    }\n",
       "</style>\n",
       "<table border=\"1\" class=\"dataframe\">\n",
       "  <thead>\n",
       "    <tr style=\"text-align: right;\">\n",
       "      <th></th>\n",
       "      <th>Description</th>\n",
       "      <th>Processor</th>\n",
       "      <th>RAM</th>\n",
       "      <th>Operating System</th>\n",
       "      <th>Storage</th>\n",
       "      <th>Display</th>\n",
       "      <th>Warranty</th>\n",
       "      <th>Price</th>\n",
       "      <th>RAM_GB</th>\n",
       "      <th>DDR_Version</th>\n",
       "      <th>...</th>\n",
       "      <th>Generation</th>\n",
       "      <th>Operating System Type</th>\n",
       "      <th>Storage_GB</th>\n",
       "      <th>Disk Drive</th>\n",
       "      <th>Size(Inches)</th>\n",
       "      <th>Company</th>\n",
       "      <th>Graphic Card</th>\n",
       "      <th>Touchscreen</th>\n",
       "      <th>SSD</th>\n",
       "      <th>HDD</th>\n",
       "    </tr>\n",
       "  </thead>\n",
       "  <tbody>\n",
       "    <tr>\n",
       "      <th>0</th>\n",
       "      <td>HP Spectre x360 Core i5 10th Gen - (8 GB/512 G...</td>\n",
       "      <td>Intel Core i5 Processor (10th Gen)</td>\n",
       "      <td>8 GB DDR4 RAM</td>\n",
       "      <td>64 bit Windows 10 Operating System</td>\n",
       "      <td>512 GB SSD</td>\n",
       "      <td>33.78 cm (13.3 inch) Touchscreen Display</td>\n",
       "      <td>1 Year Onsite Warranty</td>\n",
       "      <td>102990.0</td>\n",
       "      <td>8</td>\n",
       "      <td>4</td>\n",
       "      <td>...</td>\n",
       "      <td>10</td>\n",
       "      <td>Windows</td>\n",
       "      <td>512</td>\n",
       "      <td>SSD</td>\n",
       "      <td>13.3</td>\n",
       "      <td>HP</td>\n",
       "      <td>No</td>\n",
       "      <td>Yes</td>\n",
       "      <td>512</td>\n",
       "      <td>0</td>\n",
       "    </tr>\n",
       "    <tr>\n",
       "      <th>1</th>\n",
       "      <td>Asus VivoBook 14 Core i5 8th Gen - (8 GB/512 G...</td>\n",
       "      <td>Intel Core i5 Processor (8th Gen)</td>\n",
       "      <td>8 GB DDR4 RAM</td>\n",
       "      <td>64 bit Windows 10 Operating System</td>\n",
       "      <td>512 GB SSD</td>\n",
       "      <td>35.56 cm (14 inch) Display</td>\n",
       "      <td>1 Year Limited International Hardware Warranty</td>\n",
       "      <td>55990.0</td>\n",
       "      <td>8</td>\n",
       "      <td>4</td>\n",
       "      <td>...</td>\n",
       "      <td>8</td>\n",
       "      <td>Windows</td>\n",
       "      <td>512</td>\n",
       "      <td>SSD</td>\n",
       "      <td>14.0</td>\n",
       "      <td>Asus</td>\n",
       "      <td>Yes</td>\n",
       "      <td>No</td>\n",
       "      <td>512</td>\n",
       "      <td>0</td>\n",
       "    </tr>\n",
       "    <tr>\n",
       "      <th>2</th>\n",
       "      <td>Acer Aspire 7 Core i5 9th Gen - (8 GB/512 GB S...</td>\n",
       "      <td>Intel Core i5 Processor (9th Gen)</td>\n",
       "      <td>8 GB DDR4 RAM</td>\n",
       "      <td>64 bit Windows 10 Operating System</td>\n",
       "      <td>512 GB SSD</td>\n",
       "      <td>39.62 cm (15.6 inch) Display</td>\n",
       "      <td>1 Year International Travelers Warranty (ITW)</td>\n",
       "      <td>56990.0</td>\n",
       "      <td>8</td>\n",
       "      <td>4</td>\n",
       "      <td>...</td>\n",
       "      <td>9</td>\n",
       "      <td>Windows</td>\n",
       "      <td>512</td>\n",
       "      <td>SSD</td>\n",
       "      <td>15.6</td>\n",
       "      <td>Acer</td>\n",
       "      <td>Yes</td>\n",
       "      <td>No</td>\n",
       "      <td>512</td>\n",
       "      <td>0</td>\n",
       "    </tr>\n",
       "    <tr>\n",
       "      <th>3</th>\n",
       "      <td>Asus VivoBook 14 Ryzen 5 Quad Core 2nd Gen - (...</td>\n",
       "      <td>AMD Ryzen 5 Quad Core Processor (2nd Gen)</td>\n",
       "      <td>8 GB DDR4 RAM</td>\n",
       "      <td>64 bit Windows 10 Operating System</td>\n",
       "      <td>512 GB SSD</td>\n",
       "      <td>35.56 cm (14 inch) Display</td>\n",
       "      <td>1 Year Limited International Hardware Warranty</td>\n",
       "      <td>42990.0</td>\n",
       "      <td>8</td>\n",
       "      <td>4</td>\n",
       "      <td>...</td>\n",
       "      <td>2</td>\n",
       "      <td>Windows</td>\n",
       "      <td>512</td>\n",
       "      <td>SSD</td>\n",
       "      <td>14.0</td>\n",
       "      <td>Asus</td>\n",
       "      <td>No</td>\n",
       "      <td>No</td>\n",
       "      <td>512</td>\n",
       "      <td>0</td>\n",
       "    </tr>\n",
       "    <tr>\n",
       "      <th>4</th>\n",
       "      <td>HP 14s Core i5 10th Gen - (8 GB/512 GB SSD/Win...</td>\n",
       "      <td>Intel Core i5 Processor (10th Gen)</td>\n",
       "      <td>8 GB DDR4 RAM</td>\n",
       "      <td>64 bit Windows 10 Operating System</td>\n",
       "      <td>512 GB SSD</td>\n",
       "      <td>35.56 cm (14 inch) Display</td>\n",
       "      <td>1 Year Onsite Warranty</td>\n",
       "      <td>52990.0</td>\n",
       "      <td>8</td>\n",
       "      <td>4</td>\n",
       "      <td>...</td>\n",
       "      <td>10</td>\n",
       "      <td>Windows</td>\n",
       "      <td>512</td>\n",
       "      <td>SSD</td>\n",
       "      <td>14.0</td>\n",
       "      <td>HP</td>\n",
       "      <td>No</td>\n",
       "      <td>No</td>\n",
       "      <td>512</td>\n",
       "      <td>0</td>\n",
       "    </tr>\n",
       "  </tbody>\n",
       "</table>\n",
       "<p>5 rows × 22 columns</p>\n",
       "</div>"
      ],
      "text/plain": [
       "                                         Description  \\\n",
       "0  HP Spectre x360 Core i5 10th Gen - (8 GB/512 G...   \n",
       "1  Asus VivoBook 14 Core i5 8th Gen - (8 GB/512 G...   \n",
       "2  Acer Aspire 7 Core i5 9th Gen - (8 GB/512 GB S...   \n",
       "3  Asus VivoBook 14 Ryzen 5 Quad Core 2nd Gen - (...   \n",
       "4  HP 14s Core i5 10th Gen - (8 GB/512 GB SSD/Win...   \n",
       "\n",
       "                                   Processor            RAM  \\\n",
       "0         Intel Core i5 Processor (10th Gen)  8 GB DDR4 RAM   \n",
       "1          Intel Core i5 Processor (8th Gen)  8 GB DDR4 RAM   \n",
       "2          Intel Core i5 Processor (9th Gen)  8 GB DDR4 RAM   \n",
       "3  AMD Ryzen 5 Quad Core Processor (2nd Gen)  8 GB DDR4 RAM   \n",
       "4         Intel Core i5 Processor (10th Gen)  8 GB DDR4 RAM   \n",
       "\n",
       "                     Operating System     Storage  \\\n",
       "0  64 bit Windows 10 Operating System  512 GB SSD   \n",
       "1  64 bit Windows 10 Operating System  512 GB SSD   \n",
       "2  64 bit Windows 10 Operating System  512 GB SSD   \n",
       "3  64 bit Windows 10 Operating System  512 GB SSD   \n",
       "4  64 bit Windows 10 Operating System  512 GB SSD   \n",
       "\n",
       "                                    Display  \\\n",
       "0  33.78 cm (13.3 inch) Touchscreen Display   \n",
       "1                35.56 cm (14 inch) Display   \n",
       "2              39.62 cm (15.6 inch) Display   \n",
       "3                35.56 cm (14 inch) Display   \n",
       "4                35.56 cm (14 inch) Display   \n",
       "\n",
       "                                         Warranty     Price  RAM_GB  \\\n",
       "0                          1 Year Onsite Warranty  102990.0       8   \n",
       "1  1 Year Limited International Hardware Warranty   55990.0       8   \n",
       "2   1 Year International Travelers Warranty (ITW)   56990.0       8   \n",
       "3  1 Year Limited International Hardware Warranty   42990.0       8   \n",
       "4                          1 Year Onsite Warranty   52990.0       8   \n",
       "\n",
       "   DDR_Version  ... Generation Operating System Type  Storage_GB Disk Drive  \\\n",
       "0            4  ...         10               Windows         512        SSD   \n",
       "1            4  ...          8               Windows         512        SSD   \n",
       "2            4  ...          9               Windows         512        SSD   \n",
       "3            4  ...          2               Windows         512        SSD   \n",
       "4            4  ...         10               Windows         512        SSD   \n",
       "\n",
       "  Size(Inches) Company  Graphic Card Touchscreen   SSD HDD  \n",
       "0         13.3      HP            No         Yes  512    0  \n",
       "1         14.0    Asus           Yes          No  512    0  \n",
       "2         15.6    Acer           Yes          No  512    0  \n",
       "3         14.0    Asus            No          No  512    0  \n",
       "4         14.0      HP            No          No  512    0  \n",
       "\n",
       "[5 rows x 22 columns]"
      ]
     },
     "execution_count": 243,
     "metadata": {},
     "output_type": "execute_result"
    }
   ],
   "source": [
    "df.head()"
   ]
  },
  {
   "cell_type": "code",
   "execution_count": 244,
   "metadata": {},
   "outputs": [
    {
     "data": {
      "text/plain": [
       "Description              0\n",
       "Processor                0\n",
       "RAM                      0\n",
       "Operating System         0\n",
       "Storage                  0\n",
       "Display                  0\n",
       "Warranty                 0\n",
       "Price                    0\n",
       "RAM_GB                   0\n",
       "DDR_Version              0\n",
       "Processor Name           0\n",
       "Processor Type           0\n",
       "Generation               0\n",
       "Operating System Type    0\n",
       "Storage_GB               0\n",
       "Disk Drive               0\n",
       "Size(Inches)             0\n",
       "Company                  0\n",
       "Graphic Card             0\n",
       "Touchscreen              0\n",
       "SSD                      0\n",
       "HDD                      0\n",
       "dtype: int64"
      ]
     },
     "execution_count": 244,
     "metadata": {},
     "output_type": "execute_result"
    }
   ],
   "source": [
    "df.isnull().sum()"
   ]
  },
  {
   "cell_type": "code",
   "execution_count": 245,
   "metadata": {},
   "outputs": [
    {
     "data": {
      "text/plain": [
       "Index(['Description', 'Processor', 'RAM', 'Operating System', 'Storage',\n",
       "       'Display', 'Warranty', 'Price', 'RAM_GB', 'DDR_Version',\n",
       "       'Processor Name', 'Processor Type', 'Generation',\n",
       "       'Operating System Type', 'Storage_GB', 'Disk Drive', 'Size(Inches)',\n",
       "       'Company', 'Graphic Card', 'Touchscreen', 'SSD', 'HDD'],\n",
       "      dtype='object')"
      ]
     },
     "execution_count": 245,
     "metadata": {},
     "output_type": "execute_result"
    }
   ],
   "source": [
    "df.columns"
   ]
  },
  {
   "cell_type": "code",
   "execution_count": 246,
   "metadata": {},
   "outputs": [
    {
     "data": {
      "image/png": "[encoded data removed]",
      "text/plain": [
       "<Figure size 720x432 with 1 Axes>"
      ]
     },
     "metadata": {},
     "output_type": "display_data"
    }
   ],
   "source": [
    "sns.countplot(x='RAM_GB',data=df)\n",
    "\n",
    "plt.xlabel('RAM') \n",
    "plt.ylabel('Number of laptops') \n",
    "\n",
    "plt.show()"
   ]
  },
  {
   "cell_type": "markdown",
   "metadata": {},
   "source": [
    "We can see that the maximum number of laptops have 8GB of RAM(above 100) and 4GB RAM will be fine for school purpose. 8GB RAM is optimal since its sufficient for college purpose and for normal games. Very few laptops have 32GB RAM. But if there are professional gamers then they prefer 16/32GB RAM laptops. Its obvious that as the size of the RAM increases, so does the price. Laptops with a higher RAM size are costly. But lets verify it now! "
   ]
  },
  {
   "cell_type": "code",
   "execution_count": 247,
   "metadata": {},
   "outputs": [
    {
     "data": {
      "text/plain": [
       "RAM_GB\n",
       "4      39080.058824\n",
       "8      68139.419643\n",
       "16    164398.950000\n",
       "32    271090.500000\n",
       "Name: Price, dtype: float64"
      ]
     },
     "execution_count": 247,
     "metadata": {},
     "output_type": "execute_result"
    }
   ],
   "source": [
    "df.groupby('RAM_GB')['Price'].mean()"
   ]
  },
  {
   "cell_type": "code",
   "execution_count": 248,
   "metadata": {},
   "outputs": [
    {
     "data": {
      "image/png": "[encoded data removed]",
      "text/plain": [
       "<Figure size 720x432 with 1 Axes>"
      ]
     },
     "metadata": {},
     "output_type": "display_data"
    }
   ],
   "source": [
    "sns.boxplot(x='RAM_GB',y=\"Price\",data=df)\n",
    "plt.show()"
   ]
  },
  {
   "cell_type": "markdown",
   "metadata": {},
   "source": [
    "So its evident that as the size of the RAM increases, the Price of the laptop also increases. There are even a few outliers for 8 GB RAM which indicates that even though RAM is 8GB the Price is very high.So the other features of the laptop might be excellent. But what can the other features be which makes it so expensive? Let's find out"
   ]
  },
  {
   "cell_type": "code",
   "execution_count": 249,
   "metadata": {},
   "outputs": [
    {
     "data": {
      "text/plain": [
       "145"
      ]
     },
     "execution_count": 249,
     "metadata": {},
     "output_type": "execute_result"
    }
   ],
   "source": [
    "df[df['RAM_GB']==8]['Price'].idxmax() # The index of the laptop with maximum price(8GB RAM)"
   ]
  },
  {
   "cell_type": "code",
   "execution_count": 250,
   "metadata": {},
   "outputs": [
    {
     "data": {
      "text/plain": [
       "148999.0"
      ]
     },
     "execution_count": 250,
     "metadata": {},
     "output_type": "execute_result"
    }
   ],
   "source": [
    "df.iloc[145,7] # The maximum price for a 8GB laptop is 1,49,000"
   ]
  },
  {
   "cell_type": "code",
   "execution_count": 251,
   "metadata": {},
   "outputs": [
    {
     "data": {
      "text/plain": [
       "Description              Apple MacBook Pro Core i5 8th Gen - (8 GB/256 ...\n",
       "Processor                                Intel Core i5 Processor (8th Gen)\n",
       "RAM                                                          8 GB DDR3 RAM\n",
       "Operating System                                   Mac OS Operating System\n",
       "Storage                                                         256 GB SSD\n",
       "Display                                       33.78 cm (13.3 inch) Display\n",
       "Warranty                                            1 Year Onsite Warranty\n",
       "Price                                                               148999\n",
       "RAM_GB                                                                   8\n",
       "DDR_Version                                                              3\n",
       "Processor Name                                                       Intel\n",
       "Processor Type                                                          i5\n",
       "Generation                                                               8\n",
       "Operating System Type                                                  Mac\n",
       "Storage_GB                                                             256\n",
       "Disk Drive                                                             SSD\n",
       "Size(Inches)                                                          13.3\n",
       "Company                                                                 HP\n",
       "Graphic Card                                                            No\n",
       "Touchscreen                                                             No\n",
       "SSD                                                                   256 \n",
       "HDD                                                                      0\n",
       "Name: 145, dtype: object"
      ]
     },
     "execution_count": 251,
     "metadata": {},
     "output_type": "execute_result"
    }
   ],
   "source": [
    "df.iloc[145,:] # Checking all the features of that laptop"
   ]
  },
  {
   "cell_type": "markdown",
   "metadata": {},
   "source": [
    "So now we can understand the reason behind this Price. In general Apple Macbooks are very much expensive when compared to Windows/Linux laptops. Here the Macbook is of Intel i5 8th gen 256GB SSD which is pretty good for a Macbook! So that's the reason for a very high price of a 8GB RAM laptop.If it's a Windows one then the price won't be this high(given the same configurations of the processor,generation)"
   ]
  },
  {
   "cell_type": "code",
   "execution_count": 252,
   "metadata": {},
   "outputs": [
    {
     "data": {
      "text/plain": [
       "RAM_GB\n",
       "4      39080.058824\n",
       "8      68139.419643\n",
       "16    164398.950000\n",
       "32    271090.500000\n",
       "Name: Price, dtype: float64"
      ]
     },
     "execution_count": 252,
     "metadata": {},
     "output_type": "execute_result"
    }
   ],
   "source": [
    "df.groupby('RAM_GB')['Price'].mean()"
   ]
  },
  {
   "cell_type": "markdown",
   "metadata": {},
   "source": [
    "Write something about DDR Version"
   ]
  },
  {
   "cell_type": "code",
   "execution_count": 253,
   "metadata": {},
   "outputs": [
    {
     "data": {
      "image/png": "[encoded data removed]",
      "text/plain": [
       "<Figure size 720x432 with 1 Axes>"
      ]
     },
     "metadata": {},
     "output_type": "display_data"
    }
   ],
   "source": [
    "df['Processor Name'].value_counts().plot(kind='bar')\n",
    "\n",
    "plt.xlabel('Processor Name')\n",
    "plt.ylabel('Number of laptops')\n",
    "plt.show()"
   ]
  },
  {
   "cell_type": "code",
   "execution_count": 254,
   "metadata": {},
   "outputs": [
    {
     "data": {
      "text/plain": [
       "array([144,  23,   1])"
      ]
     },
     "execution_count": 254,
     "metadata": {},
     "output_type": "execute_result"
    }
   ],
   "source": [
    "a=df['Processor Name'].unique()\n",
    "b=np.array(df['Processor Name'].value_counts())\n",
    "b"
   ]
  },
  {
   "cell_type": "markdown",
   "metadata": {},
   "source": [
    "Nowadays Intel is the most preferred processor and most of the laptops have intel procesors only.They tend to offer better performance per core, but AMD compensates with more cores at a given price and better onboard graphics. In general Intel processors are expensive than AMD processors. Lets check if that is true!"
   ]
  },
  {
   "cell_type": "code",
   "execution_count": 255,
   "metadata": {},
   "outputs": [
    {
     "data": {
      "text/html": [
       "<div>\n",
       "<style scoped>\n",
       "    .dataframe tbody tr th:only-of-type {\n",
       "        vertical-align: middle;\n",
       "    }\n",
       "\n",
       "    .dataframe tbody tr th {\n",
       "        vertical-align: top;\n",
       "    }\n",
       "\n",
       "    .dataframe thead th {\n",
       "        text-align: right;\n",
       "    }\n",
       "</style>\n",
       "<table border=\"1\" class=\"dataframe\">\n",
       "  <thead>\n",
       "    <tr style=\"text-align: right;\">\n",
       "      <th></th>\n",
       "      <th>Price</th>\n",
       "    </tr>\n",
       "    <tr>\n",
       "      <th>Processor Name</th>\n",
       "      <th></th>\n",
       "    </tr>\n",
       "  </thead>\n",
       "  <tbody>\n",
       "    <tr>\n",
       "      <th>AMD</th>\n",
       "      <td>53607.695652</td>\n",
       "    </tr>\n",
       "    <tr>\n",
       "      <th>Intel</th>\n",
       "      <td>79589.326389</td>\n",
       "    </tr>\n",
       "    <tr>\n",
       "      <th>Microsoft</th>\n",
       "      <td>96657.000000</td>\n",
       "    </tr>\n",
       "  </tbody>\n",
       "</table>\n",
       "</div>"
      ],
      "text/plain": [
       "                       Price\n",
       "Processor Name              \n",
       "AMD             53607.695652\n",
       "Intel           79589.326389\n",
       "Microsoft       96657.000000"
      ]
     },
     "execution_count": 255,
     "metadata": {},
     "output_type": "execute_result"
    }
   ],
   "source": [
    "pd.pivot_table(df,index='Processor Name',values='Price')"
   ]
  },
  {
   "cell_type": "code",
   "execution_count": 256,
   "metadata": {},
   "outputs": [
    {
     "data": {
      "image/png": "[encoded data removed]",
      "text/plain": [
       "<Figure size 720x432 with 1 Axes>"
      ]
     },
     "metadata": {},
     "output_type": "display_data"
    }
   ],
   "source": [
    "df.groupby('Processor Name')['Price'].mean().plot(kind='bar')\n",
    "plt.xlabel('Processor Name')\n",
    "plt.ylabel('Price')\n",
    "plt.show()"
   ]
  },
  {
   "cell_type": "markdown",
   "metadata": {},
   "source": [
    "There's only one laptop with Microsoft processor , but we're not going to take that into consideration. But the laptop's price is also high. Intel laptops are relatively costlier compared to AMD."
   ]
  },
  {
   "cell_type": "code",
   "execution_count": 257,
   "metadata": {},
   "outputs": [
    {
     "data": {
      "text/plain": [
       "Index(['Description', 'Processor', 'RAM', 'Operating System', 'Storage',\n",
       "       'Display', 'Warranty', 'Price', 'RAM_GB', 'DDR_Version',\n",
       "       'Processor Name', 'Processor Type', 'Generation',\n",
       "       'Operating System Type', 'Storage_GB', 'Disk Drive', 'Size(Inches)',\n",
       "       'Company', 'Graphic Card', 'Touchscreen', 'SSD', 'HDD'],\n",
       "      dtype='object')"
      ]
     },
     "execution_count": 257,
     "metadata": {},
     "output_type": "execute_result"
    }
   ],
   "source": [
    "df.columns"
   ]
  },
  {
   "cell_type": "code",
   "execution_count": 258,
   "metadata": {},
   "outputs": [
    {
     "data": {
      "text/plain": [
       "Processor Name  Processor Type\n",
       "AMD             APU                4\n",
       "                Athlon             1\n",
       "                Ryzen 3            2\n",
       "                Ryzen 5           13\n",
       "                Ryzen 7            3\n",
       "Intel           Pentium            4\n",
       "                i3                24\n",
       "                i5                79\n",
       "                i7                32\n",
       "                i9                 4\n",
       "                m3                 1\n",
       "Microsoft       SQ1                1\n",
       "dtype: int64"
      ]
     },
     "execution_count": 258,
     "metadata": {},
     "output_type": "execute_result"
    }
   ],
   "source": [
    "grouped = df.groupby(['Processor Name','Processor Type'])\n",
    "grouped.size()"
   ]
  },
  {
   "cell_type": "markdown",
   "metadata": {},
   "source": [
    "Intel and AMD processors also have different type of CPUs and these inturn have different gens. Intel has i3,i5,i7,i9,Pentium CPUs and AMD has Ryzen3,Ryzen5,Ryzen7 CPUs. Core i7 CPUs are better than most Core i5 CPUs, which are in turn better than most Core i3 CPUs which are in turn better than Pentium CPU. They are just names to indicate the relative performance. Core i3 series has only dual-core processors, while the Core i5 and Core i7 series have both dual-core and quad-core processors. Quad-cores are usually better than dual-cores. In general i7 CPUs are expensive than i5 CPUs which are in turn expensive than i3 CPUs. As we go from i3 to i5 to i7 to i9 the performance,speed,price keeps increasing. Similar is the case with AMD Ryzen versions(Ryzen 7 > Ryzen 5 > Ryzen3) <br>\n",
    "So here most of the laptops have Intel processors and most of these Intel processors have i5 CPUs.\n",
    "\n"
   ]
  },
  {
   "cell_type": "code",
   "execution_count": 259,
   "metadata": {},
   "outputs": [
    {
     "data": {
      "image/png": "[encoded data removed]",
      "text/plain": [
       "<Figure size 720x432 with 1 Axes>"
      ]
     },
     "metadata": {},
     "output_type": "display_data"
    }
   ],
   "source": [
    "df.groupby('Processor Type')['Price'].mean().plot(kind='bar',color='red')\n",
    "plt.annotate('',                      # s: str. will leave it blank for no text\n",
    "             xy=(9.5, 230000),        # place head of the arrow at point (between i7 and i9 , Price 230000)\n",
    "             xytext=(7,80000),        # place base of the arrow at point (top of i3 , Price 80000)\n",
    "             xycoords='data',         # will use the coordinate system of the object being annotated \n",
    "             arrowprops=dict(arrowstyle='->', connectionstyle='arc3', color='blue', lw=2)\n",
    "            )\n",
    "\n",
    "# Annotate Text\n",
    "plt.annotate('Prices vs Processor Type(CPU)',   # text to display\n",
    "             xy=(7,110000),                     # start the text at at point (on top of i3 , Price 110000)\n",
    "             rotation=59,                       # based on trial and error to match the arrow\n",
    "             va='bottom',                       # want the text to be vertically 'bottom' aligned\n",
    "             ha='left',                         # want the text to be horizontally 'left' algned.\n",
    "            )\n",
    "plt.ylabel('Price')\n",
    "plt.show()"
   ]
  },
  {
   "cell_type": "markdown",
   "metadata": {},
   "source": [
    "So on an average Intel processors are expensive than AMD and in Intel, i9 > i7 > i5 > i3. Similarly in AMD, Ryzen 7 > Ryzen 5 > Ryzen 3"
   ]
  },
  {
   "cell_type": "markdown",
   "metadata": {},
   "source": [
    "Find out about m3 processors"
   ]
  },
  {
   "cell_type": "code",
   "execution_count": 260,
   "metadata": {},
   "outputs": [
    {
     "data": {
      "text/plain": [
       "array([10,  8,  9,  2,  0,  3,  5,  7])"
      ]
     },
     "execution_count": 260,
     "metadata": {},
     "output_type": "execute_result"
    }
   ],
   "source": [
    "df['Generation'].unique() # Here 0 represents Not Mentioned(The CPU's generation is not mentioned)\n",
    "# For example in the Processor column,its mentioned AMD Ryzen 5 Quad Core Processor-so here the company and CPU is mentioned but the generation is not mentioned"
   ]
  },
  {
   "cell_type": "markdown",
   "metadata": {},
   "source": [
    "We have seen that i7 > i5 > i3 but here even there is one more distinguishing factor which is the generation of the CPU. In general, in terms of speed and performance 10th gen > 9th gen > 8th gen laptops(given the same CPU configuration). For example, if we wish to compare 2 laptops in terms of speed and perforamnce then we need to look at the type of processors. If both of them are Intel then we need to look at the CPU(if its i7/i5/i3).If both the CPUs are same then we need to go for the generation.If both the generations are same(Intel Core i5 9th gen,Intel Core i5 9th gen) then we need to look at the other specifications of the laptop. <br>\n",
    "So here most of the laptops have CPUs which are of 10th generation. Price of a laptop is determined by all the features/specifications."
   ]
  },
  {
   "cell_type": "markdown",
   "metadata": {},
   "source": [
    "We have seen that most of the laptops have i5 CPUs. But among i5 let's check the generations!"
   ]
  },
  {
   "cell_type": "code",
   "execution_count": 261,
   "metadata": {},
   "outputs": [
    {
     "data": {
      "text/html": [
       "<div>\n",
       "<style scoped>\n",
       "    .dataframe tbody tr th:only-of-type {\n",
       "        vertical-align: middle;\n",
       "    }\n",
       "\n",
       "    .dataframe tbody tr th {\n",
       "        vertical-align: top;\n",
       "    }\n",
       "\n",
       "    .dataframe thead th {\n",
       "        text-align: right;\n",
       "    }\n",
       "</style>\n",
       "<table border=\"1\" class=\"dataframe\">\n",
       "  <thead>\n",
       "    <tr style=\"text-align: right;\">\n",
       "      <th>Processor Type</th>\n",
       "      <th>APU</th>\n",
       "      <th>Athlon</th>\n",
       "      <th>Pentium</th>\n",
       "      <th>Ryzen 3</th>\n",
       "      <th>Ryzen 5</th>\n",
       "      <th>Ryzen 7</th>\n",
       "      <th>SQ1</th>\n",
       "      <th>i3</th>\n",
       "      <th>i5</th>\n",
       "      <th>i7</th>\n",
       "      <th>i9</th>\n",
       "      <th>m3</th>\n",
       "    </tr>\n",
       "    <tr>\n",
       "      <th>Generation</th>\n",
       "      <th></th>\n",
       "      <th></th>\n",
       "      <th></th>\n",
       "      <th></th>\n",
       "      <th></th>\n",
       "      <th></th>\n",
       "      <th></th>\n",
       "      <th></th>\n",
       "      <th></th>\n",
       "      <th></th>\n",
       "      <th></th>\n",
       "      <th></th>\n",
       "    </tr>\n",
       "  </thead>\n",
       "  <tbody>\n",
       "    <tr>\n",
       "      <th>0</th>\n",
       "      <td>4</td>\n",
       "      <td>1</td>\n",
       "      <td>4</td>\n",
       "      <td>2</td>\n",
       "      <td>11</td>\n",
       "      <td>2</td>\n",
       "      <td>1</td>\n",
       "      <td>0</td>\n",
       "      <td>1</td>\n",
       "      <td>0</td>\n",
       "      <td>0</td>\n",
       "      <td>0</td>\n",
       "    </tr>\n",
       "    <tr>\n",
       "      <th>2</th>\n",
       "      <td>0</td>\n",
       "      <td>0</td>\n",
       "      <td>0</td>\n",
       "      <td>0</td>\n",
       "      <td>1</td>\n",
       "      <td>1</td>\n",
       "      <td>0</td>\n",
       "      <td>0</td>\n",
       "      <td>0</td>\n",
       "      <td>0</td>\n",
       "      <td>0</td>\n",
       "      <td>0</td>\n",
       "    </tr>\n",
       "    <tr>\n",
       "      <th>3</th>\n",
       "      <td>0</td>\n",
       "      <td>0</td>\n",
       "      <td>0</td>\n",
       "      <td>0</td>\n",
       "      <td>1</td>\n",
       "      <td>0</td>\n",
       "      <td>0</td>\n",
       "      <td>0</td>\n",
       "      <td>0</td>\n",
       "      <td>0</td>\n",
       "      <td>0</td>\n",
       "      <td>0</td>\n",
       "    </tr>\n",
       "    <tr>\n",
       "      <th>5</th>\n",
       "      <td>0</td>\n",
       "      <td>0</td>\n",
       "      <td>0</td>\n",
       "      <td>0</td>\n",
       "      <td>0</td>\n",
       "      <td>0</td>\n",
       "      <td>0</td>\n",
       "      <td>0</td>\n",
       "      <td>1</td>\n",
       "      <td>0</td>\n",
       "      <td>0</td>\n",
       "      <td>0</td>\n",
       "    </tr>\n",
       "    <tr>\n",
       "      <th>7</th>\n",
       "      <td>0</td>\n",
       "      <td>0</td>\n",
       "      <td>0</td>\n",
       "      <td>0</td>\n",
       "      <td>0</td>\n",
       "      <td>0</td>\n",
       "      <td>0</td>\n",
       "      <td>3</td>\n",
       "      <td>2</td>\n",
       "      <td>2</td>\n",
       "      <td>0</td>\n",
       "      <td>1</td>\n",
       "    </tr>\n",
       "    <tr>\n",
       "      <th>8</th>\n",
       "      <td>0</td>\n",
       "      <td>0</td>\n",
       "      <td>0</td>\n",
       "      <td>0</td>\n",
       "      <td>0</td>\n",
       "      <td>0</td>\n",
       "      <td>0</td>\n",
       "      <td>6</td>\n",
       "      <td>35</td>\n",
       "      <td>11</td>\n",
       "      <td>1</td>\n",
       "      <td>0</td>\n",
       "    </tr>\n",
       "    <tr>\n",
       "      <th>9</th>\n",
       "      <td>0</td>\n",
       "      <td>0</td>\n",
       "      <td>0</td>\n",
       "      <td>0</td>\n",
       "      <td>0</td>\n",
       "      <td>0</td>\n",
       "      <td>0</td>\n",
       "      <td>0</td>\n",
       "      <td>7</td>\n",
       "      <td>9</td>\n",
       "      <td>3</td>\n",
       "      <td>0</td>\n",
       "    </tr>\n",
       "    <tr>\n",
       "      <th>10</th>\n",
       "      <td>0</td>\n",
       "      <td>0</td>\n",
       "      <td>0</td>\n",
       "      <td>0</td>\n",
       "      <td>0</td>\n",
       "      <td>0</td>\n",
       "      <td>0</td>\n",
       "      <td>15</td>\n",
       "      <td>33</td>\n",
       "      <td>10</td>\n",
       "      <td>0</td>\n",
       "      <td>0</td>\n",
       "    </tr>\n",
       "  </tbody>\n",
       "</table>\n",
       "</div>"
      ],
      "text/plain": [
       "Processor Type  APU  Athlon  Pentium  Ryzen 3  Ryzen 5  Ryzen 7  SQ1  i3  i5  \\\n",
       "Generation                                                                     \n",
       "0                 4       1        4        2       11        2    1   0   1   \n",
       "2                 0       0        0        0        1        1    0   0   0   \n",
       "3                 0       0        0        0        1        0    0   0   0   \n",
       "5                 0       0        0        0        0        0    0   0   1   \n",
       "7                 0       0        0        0        0        0    0   3   2   \n",
       "8                 0       0        0        0        0        0    0   6  35   \n",
       "9                 0       0        0        0        0        0    0   0   7   \n",
       "10                0       0        0        0        0        0    0  15  33   \n",
       "\n",
       "Processor Type  i7  i9  m3  \n",
       "Generation                  \n",
       "0                0   0   0  \n",
       "2                0   0   0  \n",
       "3                0   0   0  \n",
       "5                0   0   0  \n",
       "7                2   0   1  \n",
       "8               11   1   0  \n",
       "9                9   3   0  \n",
       "10              10   0   0  "
      ]
     },
     "execution_count": 261,
     "metadata": {},
     "output_type": "execute_result"
    }
   ],
   "source": [
    "pro_with_gen = pd.crosstab(index=df[\"Generation\"],columns=df[\"Processor Type\"])\n",
    "pro_with_gen"
   ]
  },
  {
   "cell_type": "code",
   "execution_count": 262,
   "metadata": {},
   "outputs": [
    {
     "data": {
      "text/plain": [
       "Windows    154\n",
       "Mac         10\n",
       "DOS          3\n",
       "Linux        1\n",
       "Name: Operating System Type, dtype: int64"
      ]
     },
     "execution_count": 262,
     "metadata": {},
     "output_type": "execute_result"
    }
   ],
   "source": [
    "df['Operating System Type'].value_counts()"
   ]
  },
  {
   "cell_type": "markdown",
   "metadata": {},
   "source": [
    "Almost 90% of the laptops use Windows as the main Operating System.Very few laptops use DOS and Linux. Even Mac is very famous but majority of them use Windows. Laptops can also be dual booted(can have more than 2 OS). For example, one laptop can have Windows as well as Linux(this is not supported by Mac) but here we deal with only one OS."
   ]
  },
  {
   "cell_type": "code",
   "execution_count": 263,
   "metadata": {},
   "outputs": [
    {
     "data": {
      "text/html": [
       "<div>\n",
       "<style scoped>\n",
       "    .dataframe tbody tr th:only-of-type {\n",
       "        vertical-align: middle;\n",
       "    }\n",
       "\n",
       "    .dataframe tbody tr th {\n",
       "        vertical-align: top;\n",
       "    }\n",
       "\n",
       "    .dataframe thead th {\n",
       "        text-align: right;\n",
       "    }\n",
       "</style>\n",
       "<table border=\"1\" class=\"dataframe\">\n",
       "  <thead>\n",
       "    <tr style=\"text-align: right;\">\n",
       "      <th></th>\n",
       "      <th>Price</th>\n",
       "    </tr>\n",
       "    <tr>\n",
       "      <th>Operating System Type</th>\n",
       "      <th></th>\n",
       "    </tr>\n",
       "  </thead>\n",
       "  <tbody>\n",
       "    <tr>\n",
       "      <th>DOS</th>\n",
       "      <td>46412.333333</td>\n",
       "    </tr>\n",
       "    <tr>\n",
       "      <th>Linux</th>\n",
       "      <td>43990.000000</td>\n",
       "    </tr>\n",
       "    <tr>\n",
       "      <th>Mac</th>\n",
       "      <td>181077.600000</td>\n",
       "    </tr>\n",
       "    <tr>\n",
       "      <th>Windows</th>\n",
       "      <td>70107.103896</td>\n",
       "    </tr>\n",
       "  </tbody>\n",
       "</table>\n",
       "</div>"
      ],
      "text/plain": [
       "                               Price\n",
       "Operating System Type               \n",
       "DOS                     46412.333333\n",
       "Linux                   43990.000000\n",
       "Mac                    181077.600000\n",
       "Windows                 70107.103896"
      ]
     },
     "execution_count": 263,
     "metadata": {},
     "output_type": "execute_result"
    }
   ],
   "source": [
    "pd.pivot_table(df,index='Operating System Type',values='Price')"
   ]
  },
  {
   "cell_type": "markdown",
   "metadata": {},
   "source": [
    "We can clearly see that the price of Macbook is very high. We have already seen this before(even though many other laptops had 8GB RAM, but particularly the price of Mac with 8GB was very high)"
   ]
  },
  {
   "cell_type": "code",
   "execution_count": 264,
   "metadata": {},
   "outputs": [
    {
     "data": {
      "text/html": [
       "<div>\n",
       "<style scoped>\n",
       "    .dataframe tbody tr th:only-of-type {\n",
       "        vertical-align: middle;\n",
       "    }\n",
       "\n",
       "    .dataframe tbody tr th {\n",
       "        vertical-align: top;\n",
       "    }\n",
       "\n",
       "    .dataframe thead th {\n",
       "        text-align: right;\n",
       "    }\n",
       "</style>\n",
       "<table border=\"1\" class=\"dataframe\">\n",
       "  <thead>\n",
       "    <tr style=\"text-align: right;\">\n",
       "      <th></th>\n",
       "      <th></th>\n",
       "      <th>Price</th>\n",
       "    </tr>\n",
       "    <tr>\n",
       "      <th>RAM_GB</th>\n",
       "      <th>Operating System Type</th>\n",
       "      <th></th>\n",
       "    </tr>\n",
       "  </thead>\n",
       "  <tbody>\n",
       "    <tr>\n",
       "      <th>32</th>\n",
       "      <th>Windows</th>\n",
       "      <td>271090.500000</td>\n",
       "    </tr>\n",
       "    <tr>\n",
       "      <th rowspan=\"2\" valign=\"top\">16</th>\n",
       "      <th>Mac</th>\n",
       "      <td>210627.142857</td>\n",
       "    </tr>\n",
       "    <tr>\n",
       "      <th>Windows</th>\n",
       "      <td>139506.846154</td>\n",
       "    </tr>\n",
       "    <tr>\n",
       "      <th rowspan=\"4\" valign=\"top\">8</th>\n",
       "      <th>DOS</th>\n",
       "      <td>79257.000000</td>\n",
       "    </tr>\n",
       "    <tr>\n",
       "      <th>Linux</th>\n",
       "      <td>43990.000000</td>\n",
       "    </tr>\n",
       "    <tr>\n",
       "      <th>Mac</th>\n",
       "      <td>112128.666667</td>\n",
       "    </tr>\n",
       "    <tr>\n",
       "      <th>Windows</th>\n",
       "      <td>67027.869159</td>\n",
       "    </tr>\n",
       "    <tr>\n",
       "      <th rowspan=\"2\" valign=\"top\">4</th>\n",
       "      <th>DOS</th>\n",
       "      <td>29990.000000</td>\n",
       "    </tr>\n",
       "    <tr>\n",
       "      <th>Windows</th>\n",
       "      <td>39648.187500</td>\n",
       "    </tr>\n",
       "  </tbody>\n",
       "</table>\n",
       "</div>"
      ],
      "text/plain": [
       "                                      Price\n",
       "RAM_GB Operating System Type               \n",
       "32     Windows                271090.500000\n",
       "16     Mac                    210627.142857\n",
       "       Windows                139506.846154\n",
       "8      DOS                     79257.000000\n",
       "       Linux                   43990.000000\n",
       "       Mac                    112128.666667\n",
       "       Windows                 67027.869159\n",
       "4      DOS                     29990.000000\n",
       "       Windows                 39648.187500"
      ]
     },
     "execution_count": 264,
     "metadata": {},
     "output_type": "execute_result"
    }
   ],
   "source": [
    "pd.pivot_table(df, index = ['RAM_GB','Operating System Type'], values = 'Price').sort_values('RAM_GB', ascending = False)"
   ]
  },
  {
   "cell_type": "markdown",
   "metadata": {},
   "source": [
    "We have already seen that even though its 8GB RAM, the price for Mac was very high.From this table its evident that Mac is very expensive compared to Windows(the price of the laptop depends on many other features as well).The Price column shows us the average price for all the categories."
   ]
  },
  {
   "cell_type": "code",
   "execution_count": 265,
   "metadata": {},
   "outputs": [
    {
     "data": {
      "text/plain": [
       "SSD     88\n",
       "Both    46\n",
       "HDD     34\n",
       "Name: Disk Drive, dtype: int64"
      ]
     },
     "execution_count": 265,
     "metadata": {},
     "output_type": "execute_result"
    }
   ],
   "source": [
    "df['Disk Drive'].value_counts()"
   ]
  },
  {
   "cell_type": "code",
   "execution_count": 266,
   "metadata": {},
   "outputs": [
    {
     "data": {
      "text/plain": [
       "<matplotlib.axes._subplots.AxesSubplot at 0x7fe52cda7810>"
      ]
     },
     "execution_count": 266,
     "metadata": {},
     "output_type": "execute_result"
    },
    {
     "data": {
      "image/png": "[encoded data removed]",
      "text/plain": [
       "<Figure size 720x432 with 1 Axes>"
      ]
     },
     "metadata": {},
     "output_type": "display_data"
    }
   ],
   "source": [
    "sns.countplot(x=\"Disk Drive\", hue=\"Processor Type\", data=df)"
   ]
  },
  {
   "cell_type": "markdown",
   "metadata": {},
   "source": [
    "Both in the sense laptop contains both HDD and SSD."
   ]
  },
  {
   "cell_type": "code",
   "execution_count": 267,
   "metadata": {},
   "outputs": [
    {
     "data": {
      "text/plain": [
       "15.6    65\n",
       "14.0    65\n",
       "13.3    18\n",
       "13.0     6\n",
       "17.3     4\n",
       "10.0     3\n",
       "16.0     3\n",
       "15.0     2\n",
       "15.4     1\n",
       "12.3     1\n",
       "Name: Size(Inches), dtype: int64"
      ]
     },
     "execution_count": 267,
     "metadata": {},
     "output_type": "execute_result"
    }
   ],
   "source": [
    "df['Size(Inches)'].value_counts()"
   ]
  },
  {
   "cell_type": "markdown",
   "metadata": {},
   "source": [
    "As we can see most of the laptops nowadays are of 15.6 inches"
   ]
  },
  {
   "cell_type": "code",
   "execution_count": 268,
   "metadata": {},
   "outputs": [
    {
     "data": {
      "text/plain": [
       "1      Windows\n",
       "3      Windows\n",
       "4      Windows\n",
       "5      Windows\n",
       "9      Windows\n",
       "        ...   \n",
       "144    Windows\n",
       "152    Windows\n",
       "155    Windows\n",
       "161    Windows\n",
       "163    Windows\n",
       "Name: Operating System Type, Length: 65, dtype: object"
      ]
     },
     "execution_count": 268,
     "metadata": {},
     "output_type": "execute_result"
    }
   ],
   "source": [
    "df[df['Size(Inches)']==14.0]['Operating System Type']"
   ]
  },
  {
   "cell_type": "code",
   "execution_count": 269,
   "metadata": {},
   "outputs": [
    {
     "data": {
      "text/plain": [
       "Asus         45\n",
       "HP           37\n",
       "Lenovo       26\n",
       "Acer         22\n",
       "Apple         9\n",
       "Dell          8\n",
       "Microsoft     8\n",
       "MSI           6\n",
       "Alienware     4\n",
       "Nexstgo       1\n",
       "MarQ          1\n",
       "Avita         1\n",
       "Name: Company, dtype: int64"
      ]
     },
     "execution_count": 269,
     "metadata": {},
     "output_type": "execute_result"
    }
   ],
   "source": [
    "df['Company'].value_counts()"
   ]
  },
  {
   "cell_type": "markdown",
   "metadata": {},
   "source": [
    "So the maximum number of laptops are of Asus. We have already seen that the price of Apple Macbook is very high but let's see if there is any other company which beats Apple in terms of price."
   ]
  },
  {
   "cell_type": "code",
   "execution_count": 270,
   "metadata": {},
   "outputs": [
    {
     "data": {
      "text/plain": [
       "<matplotlib.axes._subplots.AxesSubplot at 0x7fe530340290>"
      ]
     },
     "execution_count": 270,
     "metadata": {},
     "output_type": "execute_result"
    },
    {
     "data": {
      "image/png": "[encoded data removed]",
      "text/plain": [
       "<Figure size 720x432 with 1 Axes>"
      ]
     },
     "metadata": {},
     "output_type": "display_data"
    }
   ],
   "source": [
    "sns.barplot(\"Company\", y=\"Price\", data=df,\n",
    "                 palette=\"Blues_d\")"
   ]
  },
  {
   "cell_type": "markdown",
   "metadata": {},
   "source": [
    "There are only 4 Alienware laptops but the price is very costly and this beats Apple mac as well. They are the most expensive among all the companies. After Alienware it's again Apple."
   ]
  },
  {
   "cell_type": "markdown",
   "metadata": {},
   "source": [
    "Previously I just stated that i9 processors are expensive than i7 which in turn as expensive than i5 and i3. But is that true? "
   ]
  },
  {
   "cell_type": "code",
   "execution_count": 271,
   "metadata": {},
   "outputs": [
    {
     "data": {
      "text/html": [
       "<div>\n",
       "<style scoped>\n",
       "    .dataframe tbody tr th:only-of-type {\n",
       "        vertical-align: middle;\n",
       "    }\n",
       "\n",
       "    .dataframe tbody tr th {\n",
       "        vertical-align: top;\n",
       "    }\n",
       "\n",
       "    .dataframe thead th {\n",
       "        text-align: right;\n",
       "    }\n",
       "</style>\n",
       "<table border=\"1\" class=\"dataframe\">\n",
       "  <thead>\n",
       "    <tr style=\"text-align: right;\">\n",
       "      <th></th>\n",
       "      <th></th>\n",
       "      <th>Price</th>\n",
       "    </tr>\n",
       "    <tr>\n",
       "      <th>Company</th>\n",
       "      <th>Processor Type</th>\n",
       "      <th></th>\n",
       "    </tr>\n",
       "  </thead>\n",
       "  <tbody>\n",
       "    <tr>\n",
       "      <th>Nexstgo</th>\n",
       "      <th>i5</th>\n",
       "      <td>97990.000000</td>\n",
       "    </tr>\n",
       "    <tr>\n",
       "      <th rowspan=\"5\" valign=\"top\">Microsoft</th>\n",
       "      <th>i7</th>\n",
       "      <td>135990.000000</td>\n",
       "    </tr>\n",
       "    <tr>\n",
       "      <th>i5</th>\n",
       "      <td>96657.000000</td>\n",
       "    </tr>\n",
       "    <tr>\n",
       "      <th>SQ1</th>\n",
       "      <td>96657.000000</td>\n",
       "    </tr>\n",
       "    <tr>\n",
       "      <th>Ryzen 5</th>\n",
       "      <td>93999.000000</td>\n",
       "    </tr>\n",
       "    <tr>\n",
       "      <th>Pentium</th>\n",
       "      <td>38599.000000</td>\n",
       "    </tr>\n",
       "    <tr>\n",
       "      <th>MarQ</th>\n",
       "      <th>i5</th>\n",
       "      <td>41990.000000</td>\n",
       "    </tr>\n",
       "    <tr>\n",
       "      <th rowspan=\"2\" valign=\"top\">MSI</th>\n",
       "      <th>i7</th>\n",
       "      <td>103743.400000</td>\n",
       "    </tr>\n",
       "    <tr>\n",
       "      <th>i5</th>\n",
       "      <td>60990.000000</td>\n",
       "    </tr>\n",
       "    <tr>\n",
       "      <th rowspan=\"4\" valign=\"top\">Lenovo</th>\n",
       "      <th>i3</th>\n",
       "      <td>37490.000000</td>\n",
       "    </tr>\n",
       "    <tr>\n",
       "      <th>APU</th>\n",
       "      <td>20990.000000</td>\n",
       "    </tr>\n",
       "    <tr>\n",
       "      <th>i7</th>\n",
       "      <td>82931.000000</td>\n",
       "    </tr>\n",
       "    <tr>\n",
       "      <th>i5</th>\n",
       "      <td>67756.600000</td>\n",
       "    </tr>\n",
       "    <tr>\n",
       "      <th rowspan=\"7\" valign=\"top\">HP</th>\n",
       "      <th>i7</th>\n",
       "      <td>148294.750000</td>\n",
       "    </tr>\n",
       "    <tr>\n",
       "      <th>i5</th>\n",
       "      <td>74169.214286</td>\n",
       "    </tr>\n",
       "    <tr>\n",
       "      <th>i3</th>\n",
       "      <td>42320.000000</td>\n",
       "    </tr>\n",
       "    <tr>\n",
       "      <th>Ryzen 7</th>\n",
       "      <td>57990.000000</td>\n",
       "    </tr>\n",
       "    <tr>\n",
       "      <th>Ryzen 5</th>\n",
       "      <td>59990.000000</td>\n",
       "    </tr>\n",
       "    <tr>\n",
       "      <th>Ryzen 3</th>\n",
       "      <td>31620.000000</td>\n",
       "    </tr>\n",
       "    <tr>\n",
       "      <th>APU</th>\n",
       "      <td>25990.000000</td>\n",
       "    </tr>\n",
       "    <tr>\n",
       "      <th rowspan=\"4\" valign=\"top\">Dell</th>\n",
       "      <th>i7</th>\n",
       "      <td>89240.000000</td>\n",
       "    </tr>\n",
       "    <tr>\n",
       "      <th>i5</th>\n",
       "      <td>61669.000000</td>\n",
       "    </tr>\n",
       "    <tr>\n",
       "      <th>Ryzen 5</th>\n",
       "      <td>74990.000000</td>\n",
       "    </tr>\n",
       "    <tr>\n",
       "      <th>i3</th>\n",
       "      <td>59437.000000</td>\n",
       "    </tr>\n",
       "    <tr>\n",
       "      <th>Avita</th>\n",
       "      <th>i5</th>\n",
       "      <td>41990.000000</td>\n",
       "    </tr>\n",
       "    <tr>\n",
       "      <th rowspan=\"7\" valign=\"top\">Asus</th>\n",
       "      <th>Ryzen 5</th>\n",
       "      <td>45490.000000</td>\n",
       "    </tr>\n",
       "    <tr>\n",
       "      <th>i9</th>\n",
       "      <td>244191.000000</td>\n",
       "    </tr>\n",
       "    <tr>\n",
       "      <th>i7</th>\n",
       "      <td>85062.200000</td>\n",
       "    </tr>\n",
       "    <tr>\n",
       "      <th>i5</th>\n",
       "      <td>59149.000000</td>\n",
       "    </tr>\n",
       "    <tr>\n",
       "      <th>i3</th>\n",
       "      <td>43990.000000</td>\n",
       "    </tr>\n",
       "    <tr>\n",
       "      <th>Ryzen 7</th>\n",
       "      <td>74910.000000</td>\n",
       "    </tr>\n",
       "    <tr>\n",
       "      <th>APU</th>\n",
       "      <td>26990.000000</td>\n",
       "    </tr>\n",
       "    <tr>\n",
       "      <th rowspan=\"4\" valign=\"top\">Apple</th>\n",
       "      <th>i7</th>\n",
       "      <td>214945.000000</td>\n",
       "    </tr>\n",
       "    <tr>\n",
       "      <th>i5</th>\n",
       "      <td>159774.250000</td>\n",
       "    </tr>\n",
       "    <tr>\n",
       "      <th>m3</th>\n",
       "      <td>112990.000000</td>\n",
       "    </tr>\n",
       "    <tr>\n",
       "      <th>i9</th>\n",
       "      <td>239900.000000</td>\n",
       "    </tr>\n",
       "    <tr>\n",
       "      <th rowspan=\"2\" valign=\"top\">Alienware</th>\n",
       "      <th>i9</th>\n",
       "      <td>297990.000000</td>\n",
       "    </tr>\n",
       "    <tr>\n",
       "      <th>i7</th>\n",
       "      <td>189990.000000</td>\n",
       "    </tr>\n",
       "    <tr>\n",
       "      <th rowspan=\"6\" valign=\"top\">Acer</th>\n",
       "      <th>i3</th>\n",
       "      <td>43410.500000</td>\n",
       "    </tr>\n",
       "    <tr>\n",
       "      <th>Ryzen 7</th>\n",
       "      <td>61990.000000</td>\n",
       "    </tr>\n",
       "    <tr>\n",
       "      <th>Pentium</th>\n",
       "      <td>27420.000000</td>\n",
       "    </tr>\n",
       "    <tr>\n",
       "      <th>i5</th>\n",
       "      <td>62698.333333</td>\n",
       "    </tr>\n",
       "    <tr>\n",
       "      <th>i7</th>\n",
       "      <td>90990.000000</td>\n",
       "    </tr>\n",
       "    <tr>\n",
       "      <th>Athlon</th>\n",
       "      <td>39999.000000</td>\n",
       "    </tr>\n",
       "  </tbody>\n",
       "</table>\n",
       "</div>"
      ],
      "text/plain": [
       "                                  Price\n",
       "Company   Processor Type               \n",
       "Nexstgo   i5               97990.000000\n",
       "Microsoft i7              135990.000000\n",
       "          i5               96657.000000\n",
       "          SQ1              96657.000000\n",
       "          Ryzen 5          93999.000000\n",
       "          Pentium          38599.000000\n",
       "MarQ      i5               41990.000000\n",
       "MSI       i7              103743.400000\n",
       "          i5               60990.000000\n",
       "Lenovo    i3               37490.000000\n",
       "          APU              20990.000000\n",
       "          i7               82931.000000\n",
       "          i5               67756.600000\n",
       "HP        i7              148294.750000\n",
       "          i5               74169.214286\n",
       "          i3               42320.000000\n",
       "          Ryzen 7          57990.000000\n",
       "          Ryzen 5          59990.000000\n",
       "          Ryzen 3          31620.000000\n",
       "          APU              25990.000000\n",
       "Dell      i7               89240.000000\n",
       "          i5               61669.000000\n",
       "          Ryzen 5          74990.000000\n",
       "          i3               59437.000000\n",
       "Avita     i5               41990.000000\n",
       "Asus      Ryzen 5          45490.000000\n",
       "          i9              244191.000000\n",
       "          i7               85062.200000\n",
       "          i5               59149.000000\n",
       "          i3               43990.000000\n",
       "          Ryzen 7          74910.000000\n",
       "          APU              26990.000000\n",
       "Apple     i7              214945.000000\n",
       "          i5              159774.250000\n",
       "          m3              112990.000000\n",
       "          i9              239900.000000\n",
       "Alienware i9              297990.000000\n",
       "          i7              189990.000000\n",
       "Acer      i3               43410.500000\n",
       "          Ryzen 7          61990.000000\n",
       "          Pentium          27420.000000\n",
       "          i5               62698.333333\n",
       "          i7               90990.000000\n",
       "          Athlon           39999.000000"
      ]
     },
     "execution_count": 271,
     "metadata": {},
     "output_type": "execute_result"
    }
   ],
   "source": [
    "pd.pivot_table(df, index = ['Company','Processor Type'], values = 'Price').sort_values('Company', ascending = False)"
   ]
  },
  {
   "cell_type": "code",
   "execution_count": 272,
   "metadata": {},
   "outputs": [
    {
     "data": {
      "text/plain": [
       "<seaborn.axisgrid.FacetGrid at 0x7fe52d2490d0>"
      ]
     },
     "execution_count": 272,
     "metadata": {},
     "output_type": "execute_result"
    },
    {
     "data": {
      "image/png": "[encoded data removed]",
      "text/plain": [
       "<Figure size 805.3x432 with 1 Axes>"
      ]
     },
     "metadata": {},
     "output_type": "display_data"
    }
   ],
   "source": [
    "sns.catplot(x=\"Company\", y=\"Price\", hue=\"Processor Type\", data=df,height=6, aspect=10/6)\n"
   ]
  },
  {
   "cell_type": "markdown",
   "metadata": {},
   "source": [
    "So from the table and the plot it is noticeable that the i9 processors are the most expensive, and then comes i7. For every company i9 laptops are costlier than i7 and i7 costlier than i5. There might be a few cases where i5 price > i7 price(this totally depends on the generation and other specifications such as RAM,SSD/HDD etc)  "
   ]
  },
  {
   "cell_type": "code",
   "execution_count": 273,
   "metadata": {},
   "outputs": [
    {
     "data": {
      "text/plain": [
       "<matplotlib.axes._subplots.AxesSubplot at 0x7fe5305393d0>"
      ]
     },
     "execution_count": 273,
     "metadata": {},
     "output_type": "execute_result"
    },
    {
     "data": {
      "image/png": "[encoded data removed]",
      "text/plain": [
       "<Figure size 720x432 with 1 Axes>"
      ]
     },
     "metadata": {},
     "output_type": "display_data"
    }
   ],
   "source": [
    "df['Touchscreen'].value_counts().plot(kind='bar')"
   ]
  },
  {
   "cell_type": "code",
   "execution_count": 274,
   "metadata": {},
   "outputs": [
    {
     "data": {
      "text/plain": [
       "<matplotlib.axes._subplots.AxesSubplot at 0x7fe52cecf090>"
      ]
     },
     "execution_count": 274,
     "metadata": {},
     "output_type": "execute_result"
    },
    {
     "data": {
      "image/png": "[encoded data removed]",
      "text/plain": [
       "<Figure size 720x432 with 1 Axes>"
      ]
     },
     "metadata": {},
     "output_type": "display_data"
    }
   ],
   "source": [
    "df['Graphic Card'].value_counts().plot(kind='bar')\n"
   ]
  },
  {
   "cell_type": "markdown",
   "metadata": {},
   "source": [
    "Most of the laptops do not have the touchscreen facility. Most of the laptops do not have graphic card which is actually bad because 2GB Graphic card is a must these days even for basic purposes."
   ]
  },
  {
   "cell_type": "code",
   "execution_count": 275,
   "metadata": {},
   "outputs": [
    {
     "data": {
      "text/plain": [
       "Index(['Description', 'Processor', 'RAM', 'Operating System', 'Storage',\n",
       "       'Display', 'Warranty', 'Price', 'RAM_GB', 'DDR_Version',\n",
       "       'Processor Name', 'Processor Type', 'Generation',\n",
       "       'Operating System Type', 'Storage_GB', 'Disk Drive', 'Size(Inches)',\n",
       "       'Company', 'Graphic Card', 'Touchscreen', 'SSD', 'HDD'],\n",
       "      dtype='object')"
      ]
     },
     "execution_count": 275,
     "metadata": {},
     "output_type": "execute_result"
    }
   ],
   "source": [
    "df.columns"
   ]
  },
  {
   "cell_type": "code",
   "execution_count": 276,
   "metadata": {},
   "outputs": [],
   "source": [
    "a=np.array(df['Company'].value_counts())"
   ]
  },
  {
   "cell_type": "code",
   "execution_count": 277,
   "metadata": {},
   "outputs": [
    {
     "data": {
      "text/plain": [
       "array([45, 37, 26, 22,  9,  8,  8,  6,  4,  1,  1,  1])"
      ]
     },
     "execution_count": 277,
     "metadata": {},
     "output_type": "execute_result"
    }
   ],
   "source": [
    "a"
   ]
  },
  {
   "cell_type": "code",
   "execution_count": 278,
   "metadata": {},
   "outputs": [
    {
     "data": {
      "text/plain": [
       "Asus         45\n",
       "HP           37\n",
       "Lenovo       26\n",
       "Acer         22\n",
       "Apple         9\n",
       "Dell          8\n",
       "Microsoft     8\n",
       "MSI           6\n",
       "Alienware     4\n",
       "Nexstgo       1\n",
       "MarQ          1\n",
       "Avita         1\n",
       "Name: Company, dtype: int64"
      ]
     },
     "execution_count": 278,
     "metadata": {},
     "output_type": "execute_result"
    }
   ],
   "source": [
    "df['Company'].value_counts()"
   ]
  },
  {
   "cell_type": "code",
   "execution_count": 279,
   "metadata": {},
   "outputs": [
    {
     "data": {
      "image/png": "[encoded data removed]",
      "text/plain": [
       "<Figure size 720x432 with 1 Axes>"
      ]
     },
     "metadata": {},
     "output_type": "display_data"
    }
   ],
   "source": [
    "# autopct create %, start angle represent starting point\n",
    "df['Company'].value_counts().plot(kind='pie',\n",
    "                            figsize=(10, 6),\n",
    "                            autopct='%1.1f%%', # add in percentages\n",
    "                            startangle=90,     # start angle 90° (Africa)\n",
    "                            shadow=True,       # add shadow      \n",
    "                            )\n",
    "\n",
    "plt.title('Immigration to Canada by Continent [1980 - 2013]')\n",
    "plt.axis('equal') # Sets the pie chart to look like a circle.\n",
    "\n",
    "plt.show()"
   ]
  },
  {
   "cell_type": "code",
   "execution_count": 280,
   "metadata": {},
   "outputs": [
    {
     "data": {
      "text/html": [
       "<div>\n",
       "<style scoped>\n",
       "    .dataframe tbody tr th:only-of-type {\n",
       "        vertical-align: middle;\n",
       "    }\n",
       "\n",
       "    .dataframe tbody tr th {\n",
       "        vertical-align: top;\n",
       "    }\n",
       "\n",
       "    .dataframe thead th {\n",
       "        text-align: right;\n",
       "    }\n",
       "</style>\n",
       "<table border=\"1\" class=\"dataframe\">\n",
       "  <thead>\n",
       "    <tr style=\"text-align: right;\">\n",
       "      <th></th>\n",
       "      <th>Description</th>\n",
       "      <th>Processor</th>\n",
       "      <th>RAM</th>\n",
       "      <th>Operating System</th>\n",
       "      <th>Storage</th>\n",
       "      <th>Display</th>\n",
       "      <th>Warranty</th>\n",
       "      <th>Price</th>\n",
       "      <th>RAM_GB</th>\n",
       "      <th>DDR_Version</th>\n",
       "      <th>...</th>\n",
       "      <th>Generation</th>\n",
       "      <th>Operating System Type</th>\n",
       "      <th>Storage_GB</th>\n",
       "      <th>Disk Drive</th>\n",
       "      <th>Size(Inches)</th>\n",
       "      <th>Company</th>\n",
       "      <th>Graphic Card</th>\n",
       "      <th>Touchscreen</th>\n",
       "      <th>SSD</th>\n",
       "      <th>HDD</th>\n",
       "    </tr>\n",
       "  </thead>\n",
       "  <tbody>\n",
       "    <tr>\n",
       "      <th>0</th>\n",
       "      <td>HP Spectre x360 Core i5 10th Gen - (8 GB/512 G...</td>\n",
       "      <td>Intel Core i5 Processor (10th Gen)</td>\n",
       "      <td>8 GB DDR4 RAM</td>\n",
       "      <td>64 bit Windows 10 Operating System</td>\n",
       "      <td>512 GB SSD</td>\n",
       "      <td>33.78 cm (13.3 inch) Touchscreen Display</td>\n",
       "      <td>1 Year Onsite Warranty</td>\n",
       "      <td>102990.0</td>\n",
       "      <td>8</td>\n",
       "      <td>4</td>\n",
       "      <td>...</td>\n",
       "      <td>10</td>\n",
       "      <td>Windows</td>\n",
       "      <td>512</td>\n",
       "      <td>SSD</td>\n",
       "      <td>13.3</td>\n",
       "      <td>HP</td>\n",
       "      <td>No</td>\n",
       "      <td>Yes</td>\n",
       "      <td>512</td>\n",
       "      <td>0</td>\n",
       "    </tr>\n",
       "    <tr>\n",
       "      <th>1</th>\n",
       "      <td>Asus VivoBook 14 Core i5 8th Gen - (8 GB/512 G...</td>\n",
       "      <td>Intel Core i5 Processor (8th Gen)</td>\n",
       "      <td>8 GB DDR4 RAM</td>\n",
       "      <td>64 bit Windows 10 Operating System</td>\n",
       "      <td>512 GB SSD</td>\n",
       "      <td>35.56 cm (14 inch) Display</td>\n",
       "      <td>1 Year Limited International Hardware Warranty</td>\n",
       "      <td>55990.0</td>\n",
       "      <td>8</td>\n",
       "      <td>4</td>\n",
       "      <td>...</td>\n",
       "      <td>8</td>\n",
       "      <td>Windows</td>\n",
       "      <td>512</td>\n",
       "      <td>SSD</td>\n",
       "      <td>14.0</td>\n",
       "      <td>Asus</td>\n",
       "      <td>Yes</td>\n",
       "      <td>No</td>\n",
       "      <td>512</td>\n",
       "      <td>0</td>\n",
       "    </tr>\n",
       "    <tr>\n",
       "      <th>2</th>\n",
       "      <td>Acer Aspire 7 Core i5 9th Gen - (8 GB/512 GB S...</td>\n",
       "      <td>Intel Core i5 Processor (9th Gen)</td>\n",
       "      <td>8 GB DDR4 RAM</td>\n",
       "      <td>64 bit Windows 10 Operating System</td>\n",
       "      <td>512 GB SSD</td>\n",
       "      <td>39.62 cm (15.6 inch) Display</td>\n",
       "      <td>1 Year International Travelers Warranty (ITW)</td>\n",
       "      <td>56990.0</td>\n",
       "      <td>8</td>\n",
       "      <td>4</td>\n",
       "      <td>...</td>\n",
       "      <td>9</td>\n",
       "      <td>Windows</td>\n",
       "      <td>512</td>\n",
       "      <td>SSD</td>\n",
       "      <td>15.6</td>\n",
       "      <td>Acer</td>\n",
       "      <td>Yes</td>\n",
       "      <td>No</td>\n",
       "      <td>512</td>\n",
       "      <td>0</td>\n",
       "    </tr>\n",
       "    <tr>\n",
       "      <th>3</th>\n",
       "      <td>Asus VivoBook 14 Ryzen 5 Quad Core 2nd Gen - (...</td>\n",
       "      <td>AMD Ryzen 5 Quad Core Processor (2nd Gen)</td>\n",
       "      <td>8 GB DDR4 RAM</td>\n",
       "      <td>64 bit Windows 10 Operating System</td>\n",
       "      <td>512 GB SSD</td>\n",
       "      <td>35.56 cm (14 inch) Display</td>\n",
       "      <td>1 Year Limited International Hardware Warranty</td>\n",
       "      <td>42990.0</td>\n",
       "      <td>8</td>\n",
       "      <td>4</td>\n",
       "      <td>...</td>\n",
       "      <td>2</td>\n",
       "      <td>Windows</td>\n",
       "      <td>512</td>\n",
       "      <td>SSD</td>\n",
       "      <td>14.0</td>\n",
       "      <td>Asus</td>\n",
       "      <td>No</td>\n",
       "      <td>No</td>\n",
       "      <td>512</td>\n",
       "      <td>0</td>\n",
       "    </tr>\n",
       "    <tr>\n",
       "      <th>4</th>\n",
       "      <td>HP 14s Core i5 10th Gen - (8 GB/512 GB SSD/Win...</td>\n",
       "      <td>Intel Core i5 Processor (10th Gen)</td>\n",
       "      <td>8 GB DDR4 RAM</td>\n",
       "      <td>64 bit Windows 10 Operating System</td>\n",
       "      <td>512 GB SSD</td>\n",
       "      <td>35.56 cm (14 inch) Display</td>\n",
       "      <td>1 Year Onsite Warranty</td>\n",
       "      <td>52990.0</td>\n",
       "      <td>8</td>\n",
       "      <td>4</td>\n",
       "      <td>...</td>\n",
       "      <td>10</td>\n",
       "      <td>Windows</td>\n",
       "      <td>512</td>\n",
       "      <td>SSD</td>\n",
       "      <td>14.0</td>\n",
       "      <td>HP</td>\n",
       "      <td>No</td>\n",
       "      <td>No</td>\n",
       "      <td>512</td>\n",
       "      <td>0</td>\n",
       "    </tr>\n",
       "    <tr>\n",
       "      <th>...</th>\n",
       "      <td>...</td>\n",
       "      <td>...</td>\n",
       "      <td>...</td>\n",
       "      <td>...</td>\n",
       "      <td>...</td>\n",
       "      <td>...</td>\n",
       "      <td>...</td>\n",
       "      <td>...</td>\n",
       "      <td>...</td>\n",
       "      <td>...</td>\n",
       "      <td>...</td>\n",
       "      <td>...</td>\n",
       "      <td>...</td>\n",
       "      <td>...</td>\n",
       "      <td>...</td>\n",
       "      <td>...</td>\n",
       "      <td>...</td>\n",
       "      <td>...</td>\n",
       "      <td>...</td>\n",
       "      <td>...</td>\n",
       "      <td>...</td>\n",
       "    </tr>\n",
       "    <tr>\n",
       "      <th>163</th>\n",
       "      <td>Lenovo Ideapad Slim APU Dual Core A4 - (4 GB/6...</td>\n",
       "      <td>AMD APU Dual Core A4 Processor</td>\n",
       "      <td>4 GB DDR4 RAM</td>\n",
       "      <td>64 bit Windows 10 Operating System</td>\n",
       "      <td>128 GB SSD</td>\n",
       "      <td>35.56 cm (14 inch) Display</td>\n",
       "      <td>1 Year Onsite Warranty</td>\n",
       "      <td>20990.0</td>\n",
       "      <td>4</td>\n",
       "      <td>4</td>\n",
       "      <td>...</td>\n",
       "      <td>0</td>\n",
       "      <td>Windows</td>\n",
       "      <td>128</td>\n",
       "      <td>SSD</td>\n",
       "      <td>14.0</td>\n",
       "      <td>Lenovo</td>\n",
       "      <td>No</td>\n",
       "      <td>No</td>\n",
       "      <td>128</td>\n",
       "      <td>0</td>\n",
       "    </tr>\n",
       "    <tr>\n",
       "      <th>164</th>\n",
       "      <td>Acer Predator Triton 300 Core i7 9th Gen - (8 ...</td>\n",
       "      <td>Intel Core i7 Processor (9th Gen)</td>\n",
       "      <td>8 GB DDR4 RAM</td>\n",
       "      <td>64 bit Windows 10 Operating System</td>\n",
       "      <td>2 TB HDD|256 GB SSD</td>\n",
       "      <td>39.62 cm (15.6 inch) Display</td>\n",
       "      <td>1 Year International Travelers Warranty (ITW)</td>\n",
       "      <td>97990.0</td>\n",
       "      <td>8</td>\n",
       "      <td>4</td>\n",
       "      <td>...</td>\n",
       "      <td>9</td>\n",
       "      <td>Windows</td>\n",
       "      <td>2000+256</td>\n",
       "      <td>Both</td>\n",
       "      <td>15.6</td>\n",
       "      <td>Acer</td>\n",
       "      <td>Yes</td>\n",
       "      <td>No</td>\n",
       "      <td>256</td>\n",
       "      <td>2000</td>\n",
       "    </tr>\n",
       "    <tr>\n",
       "      <th>165</th>\n",
       "      <td>Lenovo Yoga 730 Core i5 8th Gen - (8 GB/512 GB...</td>\n",
       "      <td>Intel Core i5 Processor (8th Gen)</td>\n",
       "      <td>8 GB DDR4 RAM</td>\n",
       "      <td>64 bit Windows 10 Operating System</td>\n",
       "      <td>512 GB SSD</td>\n",
       "      <td>33.78 cm (13.3 inch) Touchscreen Display</td>\n",
       "      <td>1 Year Onsite Warranty</td>\n",
       "      <td>94990.0</td>\n",
       "      <td>8</td>\n",
       "      <td>4</td>\n",
       "      <td>...</td>\n",
       "      <td>8</td>\n",
       "      <td>Windows</td>\n",
       "      <td>512</td>\n",
       "      <td>SSD</td>\n",
       "      <td>13.3</td>\n",
       "      <td>Lenovo</td>\n",
       "      <td>No</td>\n",
       "      <td>Yes</td>\n",
       "      <td>512</td>\n",
       "      <td>0</td>\n",
       "    </tr>\n",
       "    <tr>\n",
       "      <th>166</th>\n",
       "      <td>Asus ZenBook Core i7 10th Gen - (16 GB/1 TB SS...</td>\n",
       "      <td>Intel Core i7 Processor (10th Gen)</td>\n",
       "      <td>16 GB DDR4 RAM</td>\n",
       "      <td>64 bit Windows 10 Operating System</td>\n",
       "      <td>1 TB SSD</td>\n",
       "      <td>33.78 cm (13.3 inch) Display</td>\n",
       "      <td>1 Year Onsite Warranty</td>\n",
       "      <td>99990.0</td>\n",
       "      <td>16</td>\n",
       "      <td>4</td>\n",
       "      <td>...</td>\n",
       "      <td>10</td>\n",
       "      <td>Windows</td>\n",
       "      <td>1000</td>\n",
       "      <td>SSD</td>\n",
       "      <td>13.3</td>\n",
       "      <td>Asus</td>\n",
       "      <td>No</td>\n",
       "      <td>No</td>\n",
       "      <td>1</td>\n",
       "      <td>0</td>\n",
       "    </tr>\n",
       "    <tr>\n",
       "      <th>167</th>\n",
       "      <td>Apple MacBook Pro Core i7 7th Gen - (16 GB/512...</td>\n",
       "      <td>Intel Core i7 Processor (7th Gen)</td>\n",
       "      <td>16 GB DDR3 RAM</td>\n",
       "      <td>64 bit Mac OS Operating System</td>\n",
       "      <td>512 GB SSD</td>\n",
       "      <td>39.12 cm (15.4 inch) Display</td>\n",
       "      <td>1 Year Warranty</td>\n",
       "      <td>229990.0</td>\n",
       "      <td>16</td>\n",
       "      <td>3</td>\n",
       "      <td>...</td>\n",
       "      <td>7</td>\n",
       "      <td>Mac</td>\n",
       "      <td>512</td>\n",
       "      <td>SSD</td>\n",
       "      <td>15.4</td>\n",
       "      <td>Apple</td>\n",
       "      <td>Yes</td>\n",
       "      <td>No</td>\n",
       "      <td>512</td>\n",
       "      <td>0</td>\n",
       "    </tr>\n",
       "  </tbody>\n",
       "</table>\n",
       "<p>168 rows × 22 columns</p>\n",
       "</div>"
      ],
      "text/plain": [
       "                                           Description  \\\n",
       "0    HP Spectre x360 Core i5 10th Gen - (8 GB/512 G...   \n",
       "1    Asus VivoBook 14 Core i5 8th Gen - (8 GB/512 G...   \n",
       "2    Acer Aspire 7 Core i5 9th Gen - (8 GB/512 GB S...   \n",
       "3    Asus VivoBook 14 Ryzen 5 Quad Core 2nd Gen - (...   \n",
       "4    HP 14s Core i5 10th Gen - (8 GB/512 GB SSD/Win...   \n",
       "..                                                 ...   \n",
       "163  Lenovo Ideapad Slim APU Dual Core A4 - (4 GB/6...   \n",
       "164  Acer Predator Triton 300 Core i7 9th Gen - (8 ...   \n",
       "165  Lenovo Yoga 730 Core i5 8th Gen - (8 GB/512 GB...   \n",
       "166  Asus ZenBook Core i7 10th Gen - (16 GB/1 TB SS...   \n",
       "167  Apple MacBook Pro Core i7 7th Gen - (16 GB/512...   \n",
       "\n",
       "                                     Processor             RAM  \\\n",
       "0           Intel Core i5 Processor (10th Gen)   8 GB DDR4 RAM   \n",
       "1            Intel Core i5 Processor (8th Gen)   8 GB DDR4 RAM   \n",
       "2            Intel Core i5 Processor (9th Gen)   8 GB DDR4 RAM   \n",
       "3    AMD Ryzen 5 Quad Core Processor (2nd Gen)   8 GB DDR4 RAM   \n",
       "4           Intel Core i5 Processor (10th Gen)   8 GB DDR4 RAM   \n",
       "..                                         ...             ...   \n",
       "163             AMD APU Dual Core A4 Processor   4 GB DDR4 RAM   \n",
       "164          Intel Core i7 Processor (9th Gen)   8 GB DDR4 RAM   \n",
       "165          Intel Core i5 Processor (8th Gen)   8 GB DDR4 RAM   \n",
       "166         Intel Core i7 Processor (10th Gen)  16 GB DDR4 RAM   \n",
       "167          Intel Core i7 Processor (7th Gen)  16 GB DDR3 RAM   \n",
       "\n",
       "                       Operating System              Storage  \\\n",
       "0    64 bit Windows 10 Operating System           512 GB SSD   \n",
       "1    64 bit Windows 10 Operating System           512 GB SSD   \n",
       "2    64 bit Windows 10 Operating System           512 GB SSD   \n",
       "3    64 bit Windows 10 Operating System           512 GB SSD   \n",
       "4    64 bit Windows 10 Operating System           512 GB SSD   \n",
       "..                                  ...                  ...   \n",
       "163  64 bit Windows 10 Operating System           128 GB SSD   \n",
       "164  64 bit Windows 10 Operating System  2 TB HDD|256 GB SSD   \n",
       "165  64 bit Windows 10 Operating System           512 GB SSD   \n",
       "166  64 bit Windows 10 Operating System             1 TB SSD   \n",
       "167      64 bit Mac OS Operating System           512 GB SSD   \n",
       "\n",
       "                                      Display  \\\n",
       "0    33.78 cm (13.3 inch) Touchscreen Display   \n",
       "1                  35.56 cm (14 inch) Display   \n",
       "2                39.62 cm (15.6 inch) Display   \n",
       "3                  35.56 cm (14 inch) Display   \n",
       "4                  35.56 cm (14 inch) Display   \n",
       "..                                        ...   \n",
       "163                35.56 cm (14 inch) Display   \n",
       "164              39.62 cm (15.6 inch) Display   \n",
       "165  33.78 cm (13.3 inch) Touchscreen Display   \n",
       "166              33.78 cm (13.3 inch) Display   \n",
       "167              39.12 cm (15.4 inch) Display   \n",
       "\n",
       "                                           Warranty     Price  RAM_GB  \\\n",
       "0                            1 Year Onsite Warranty  102990.0       8   \n",
       "1    1 Year Limited International Hardware Warranty   55990.0       8   \n",
       "2     1 Year International Travelers Warranty (ITW)   56990.0       8   \n",
       "3    1 Year Limited International Hardware Warranty   42990.0       8   \n",
       "4                            1 Year Onsite Warranty   52990.0       8   \n",
       "..                                              ...       ...     ...   \n",
       "163                          1 Year Onsite Warranty   20990.0       4   \n",
       "164   1 Year International Travelers Warranty (ITW)   97990.0       8   \n",
       "165                          1 Year Onsite Warranty   94990.0       8   \n",
       "166                          1 Year Onsite Warranty   99990.0      16   \n",
       "167                                 1 Year Warranty  229990.0      16   \n",
       "\n",
       "     DDR_Version  ... Generation Operating System Type  Storage_GB Disk Drive  \\\n",
       "0              4  ...         10               Windows         512        SSD   \n",
       "1              4  ...          8               Windows         512        SSD   \n",
       "2              4  ...          9               Windows         512        SSD   \n",
       "3              4  ...          2               Windows         512        SSD   \n",
       "4              4  ...         10               Windows         512        SSD   \n",
       "..           ...  ...        ...                   ...         ...        ...   \n",
       "163            4  ...          0               Windows         128        SSD   \n",
       "164            4  ...          9               Windows    2000+256       Both   \n",
       "165            4  ...          8               Windows         512        SSD   \n",
       "166            4  ...         10               Windows        1000        SSD   \n",
       "167            3  ...          7                   Mac         512        SSD   \n",
       "\n",
       "    Size(Inches) Company  Graphic Card Touchscreen   SSD   HDD  \n",
       "0           13.3      HP            No         Yes  512      0  \n",
       "1           14.0    Asus           Yes          No  512      0  \n",
       "2           15.6    Acer           Yes          No  512      0  \n",
       "3           14.0    Asus            No          No  512      0  \n",
       "4           14.0      HP            No          No  512      0  \n",
       "..           ...     ...           ...         ...   ...   ...  \n",
       "163         14.0  Lenovo            No          No  128      0  \n",
       "164         15.6    Acer           Yes          No  256   2000  \n",
       "165         13.3  Lenovo            No         Yes  512      0  \n",
       "166         13.3    Asus            No          No    1      0  \n",
       "167         15.4   Apple           Yes          No  512      0  \n",
       "\n",
       "[168 rows x 22 columns]"
      ]
     },
     "execution_count": 280,
     "metadata": {},
     "output_type": "execute_result"
    }
   ],
   "source": [
    "df"
   ]
  },
  {
   "cell_type": "code",
   "execution_count": 281,
   "metadata": {},
   "outputs": [],
   "source": [
    "df.to_csv('merged.csv')"
   ]
  },
  {
   "cell_type": "code",
   "execution_count": null,
   "metadata": {},
   "outputs": [],
   "source": []
  }
 ],
 "metadata": {
  "kernelspec": {
   "display_name": "Python 3",
   "language": "python",
   "name": "python3"
  },
  "language_info": {
   "codemirror_mode": {
    "name": "ipython",
    "version": 3
   },
   "file_extension": ".py",
   "mimetype": "text/x-python",
   "name": "python",
   "nbconvert_exporter": "python",
   "pygments_lexer": "ipython3",
   "version": "3.7.4"
  }
 },
 "nbformat": 4,
 "nbformat_minor": 2
}
